{
 "cells": [
  {
   "cell_type": "markdown",
   "metadata": {},
   "source": [
    "<h1> Assignment 3: Group Project </h1>"
   ]
  },
  {
   "cell_type": "markdown",
   "metadata": {},
   "source": [
    "<h2> Task 0: Choosing your project topic"
   ]
  },
  {
   "cell_type": "markdown",
   "metadata": {},
   "source": [
    "This dataset contains about 10 years of daily weather observations from many locations across Australia.\n",
    "\n",
    "RainTomorrow is the target variable to predict. It means -- did it rain the next day, Yes or No? This column is Yes if the rain for that day was 1mm or more."
   ]
  },
  {
   "cell_type": "markdown",
   "metadata": {},
   "source": [
    "<b> Description of each attribute</b>"
   ]
  },
  {
   "cell_type": "markdown",
   "metadata": {},
   "source": [
    "1. Date: The date of observation\n",
    "2. Location: The location of the weather station\n",
    "3. MinTemp: The minimum temperature in degrees celsius\n",
    "4. MaxTemp: The minimum temperature in degrees celsius\n",
    "5. Rainfall: The amount of rainfall recorded for the day in mm\n",
    "6. Evaporation: The so-called Class A pan evaporation (mm) in the 24 hours to 9am\n",
    "7. Sunshine: The number of hours of bright sunshine in the day.\n",
    "8. WindGustDir: The direction of the strongest wind gust in the 24 hours to midnight\n",
    "9. WindGustSpeed: The speed (km/h) of the strongest wind gust in the 24 hours to midnight\n",
    "10. WindDir9am: Direction of the wind at 9am\n",
    "11. WindDir3pm: Direction of the wind at 3pm\n",
    "12. WindSpeed9am: Wind speed (km/hr) averaged over 10 minutes prior to 9am\n",
    "13. WindSpeed3pm: Wind speed (km/hr) averaged over 10 minutes prior to 3pm\n",
    "14. Humidity9am: Humidity (percent) at 9am \n",
    "15. Humidity3pm: Humidity (percent) at 3pm\n",
    "16. Pressure9am: Atmospheric pressure (hpa) reduced to mean sea level at 9am    \n",
    "17. Pressure3pm: Atmospheric pressure (hpa) reduced to mean sea level at 3pm  \n",
    "18. Cloud9am: Fraction of sky obscured by cloud at 9am. This is measured in \"oktas\", which are a unit of eigths. It records how many eigths of the sky are obscured by cloud. A 0 measure indicates completely clear sky whilst an 8 indicates that it is completely overcast. \n",
    "19. Cloud3pm: Fraction of sky obscured by cloud at 3pm. This is measured in \"oktas\", which are a unit of eigths. It records how many eigths of the sky are obscured by cloud. A 0 measure indicates completely clear sky whilst an 8 indicates that it is completely overcast. \n",
    "20. Temp9am: Temperature (degrees C) at 9am      \n",
    "21. Temp3pm: Temperature (degrees C) at 3pm      \n",
    "22. RainToday: Boolean: 1 if precipitation (mm) in the 24 hours to 9am exceeds 1mm, otherwise 0 \n",
    "23. RainTomorrow: The amount of next day rain in mm. Used to create response variable RainTomorrow. A kind of measure of the \"risk\"."
   ]
  },
  {
   "cell_type": "markdown",
   "metadata": {},
   "source": [
    "<h2> Task 1.1: Data Retrieving and Cleaning"
   ]
  },
  {
   "cell_type": "code",
   "execution_count": 1,
   "metadata": {},
   "outputs": [],
   "source": [
    "import pandas as pd\n",
    "import seaborn as sns\n",
    "import numpy as np\n",
    "import matplotlib.pyplot as plt\n",
    "import math\n",
    "from sklearn.model_selection import train_test_split\n",
    "import warnings\n",
    "warnings.filterwarnings('ignore')"
   ]
  },
  {
   "cell_type": "code",
   "execution_count": 2,
   "metadata": {},
   "outputs": [],
   "source": [
    "df = pd.read_csv('weatherAUS.csv', encoding='utf-8', error_bad_lines = False)"
   ]
  },
  {
   "cell_type": "code",
   "execution_count": 3,
   "metadata": {},
   "outputs": [],
   "source": [
    "train, test= train_test_split(df, test_size=0.2, random_state=0, shuffle=True)\n",
    "df_train = train.reset_index(drop=True)\n",
    "df_test = test.reset_index(drop=True)"
   ]
  },
  {
   "cell_type": "code",
   "execution_count": 4,
   "metadata": {},
   "outputs": [
    {
     "data": {
      "text/html": [
       "<div>\n",
       "<style scoped>\n",
       "    .dataframe tbody tr th:only-of-type {\n",
       "        vertical-align: middle;\n",
       "    }\n",
       "\n",
       "    .dataframe tbody tr th {\n",
       "        vertical-align: top;\n",
       "    }\n",
       "\n",
       "    .dataframe thead th {\n",
       "        text-align: right;\n",
       "    }\n",
       "</style>\n",
       "<table border=\"1\" class=\"dataframe\">\n",
       "  <thead>\n",
       "    <tr style=\"text-align: right;\">\n",
       "      <th></th>\n",
       "      <th>Date</th>\n",
       "      <th>Location</th>\n",
       "      <th>MinTemp</th>\n",
       "      <th>MaxTemp</th>\n",
       "      <th>Rainfall</th>\n",
       "      <th>Evaporation</th>\n",
       "      <th>Sunshine</th>\n",
       "      <th>WindGustDir</th>\n",
       "      <th>WindGustSpeed</th>\n",
       "      <th>WindDir9am</th>\n",
       "      <th>...</th>\n",
       "      <th>Humidity9am</th>\n",
       "      <th>Humidity3pm</th>\n",
       "      <th>Pressure9am</th>\n",
       "      <th>Pressure3pm</th>\n",
       "      <th>Cloud9am</th>\n",
       "      <th>Cloud3pm</th>\n",
       "      <th>Temp9am</th>\n",
       "      <th>Temp3pm</th>\n",
       "      <th>RainToday</th>\n",
       "      <th>RainTomorrow</th>\n",
       "    </tr>\n",
       "  </thead>\n",
       "  <tbody>\n",
       "    <tr>\n",
       "      <th>0</th>\n",
       "      <td>2014-03-12</td>\n",
       "      <td>NorfolkIsland</td>\n",
       "      <td>18.8</td>\n",
       "      <td>23.7</td>\n",
       "      <td>0.2</td>\n",
       "      <td>5.0</td>\n",
       "      <td>7.3</td>\n",
       "      <td>ESE</td>\n",
       "      <td>52.0</td>\n",
       "      <td>ESE</td>\n",
       "      <td>...</td>\n",
       "      <td>74.0</td>\n",
       "      <td>73.0</td>\n",
       "      <td>1016.6</td>\n",
       "      <td>1013.9</td>\n",
       "      <td>5.0</td>\n",
       "      <td>7.0</td>\n",
       "      <td>21.4</td>\n",
       "      <td>22.2</td>\n",
       "      <td>No</td>\n",
       "      <td>Yes</td>\n",
       "    </tr>\n",
       "    <tr>\n",
       "      <th>1</th>\n",
       "      <td>2016-10-06</td>\n",
       "      <td>Watsonia</td>\n",
       "      <td>9.3</td>\n",
       "      <td>24.0</td>\n",
       "      <td>0.2</td>\n",
       "      <td>1.6</td>\n",
       "      <td>10.9</td>\n",
       "      <td>NE</td>\n",
       "      <td>48.0</td>\n",
       "      <td>NNW</td>\n",
       "      <td>...</td>\n",
       "      <td>74.0</td>\n",
       "      <td>55.0</td>\n",
       "      <td>1018.3</td>\n",
       "      <td>1014.6</td>\n",
       "      <td>3.0</td>\n",
       "      <td>5.0</td>\n",
       "      <td>14.3</td>\n",
       "      <td>23.2</td>\n",
       "      <td>No</td>\n",
       "      <td>No</td>\n",
       "    </tr>\n",
       "    <tr>\n",
       "      <th>2</th>\n",
       "      <td>2011-08-31</td>\n",
       "      <td>Perth</td>\n",
       "      <td>10.9</td>\n",
       "      <td>22.2</td>\n",
       "      <td>1.4</td>\n",
       "      <td>1.2</td>\n",
       "      <td>9.6</td>\n",
       "      <td>SW</td>\n",
       "      <td>26.0</td>\n",
       "      <td>NaN</td>\n",
       "      <td>...</td>\n",
       "      <td>85.0</td>\n",
       "      <td>47.0</td>\n",
       "      <td>1017.6</td>\n",
       "      <td>1014.9</td>\n",
       "      <td>1.0</td>\n",
       "      <td>2.0</td>\n",
       "      <td>16.6</td>\n",
       "      <td>21.5</td>\n",
       "      <td>Yes</td>\n",
       "      <td>No</td>\n",
       "    </tr>\n",
       "    <tr>\n",
       "      <th>3</th>\n",
       "      <td>2010-06-11</td>\n",
       "      <td>Darwin</td>\n",
       "      <td>19.3</td>\n",
       "      <td>29.9</td>\n",
       "      <td>0.0</td>\n",
       "      <td>9.2</td>\n",
       "      <td>11.0</td>\n",
       "      <td>ESE</td>\n",
       "      <td>43.0</td>\n",
       "      <td>ESE</td>\n",
       "      <td>...</td>\n",
       "      <td>44.0</td>\n",
       "      <td>37.0</td>\n",
       "      <td>1015.9</td>\n",
       "      <td>1012.1</td>\n",
       "      <td>1.0</td>\n",
       "      <td>1.0</td>\n",
       "      <td>23.2</td>\n",
       "      <td>29.1</td>\n",
       "      <td>No</td>\n",
       "      <td>No</td>\n",
       "    </tr>\n",
       "    <tr>\n",
       "      <th>4</th>\n",
       "      <td>2014-04-10</td>\n",
       "      <td>Albury</td>\n",
       "      <td>15.7</td>\n",
       "      <td>17.6</td>\n",
       "      <td>12.4</td>\n",
       "      <td>NaN</td>\n",
       "      <td>NaN</td>\n",
       "      <td>E</td>\n",
       "      <td>20.0</td>\n",
       "      <td>ESE</td>\n",
       "      <td>...</td>\n",
       "      <td>100.0</td>\n",
       "      <td>100.0</td>\n",
       "      <td>1015.2</td>\n",
       "      <td>1010.5</td>\n",
       "      <td>8.0</td>\n",
       "      <td>8.0</td>\n",
       "      <td>16.5</td>\n",
       "      <td>17.3</td>\n",
       "      <td>Yes</td>\n",
       "      <td>Yes</td>\n",
       "    </tr>\n",
       "  </tbody>\n",
       "</table>\n",
       "<p>5 rows × 23 columns</p>\n",
       "</div>"
      ],
      "text/plain": [
       "         Date       Location  MinTemp  MaxTemp  Rainfall  Evaporation  \\\n",
       "0  2014-03-12  NorfolkIsland     18.8     23.7       0.2          5.0   \n",
       "1  2016-10-06       Watsonia      9.3     24.0       0.2          1.6   \n",
       "2  2011-08-31          Perth     10.9     22.2       1.4          1.2   \n",
       "3  2010-06-11         Darwin     19.3     29.9       0.0          9.2   \n",
       "4  2014-04-10         Albury     15.7     17.6      12.4          NaN   \n",
       "\n",
       "   Sunshine WindGustDir  WindGustSpeed WindDir9am  ... Humidity9am  \\\n",
       "0       7.3         ESE           52.0        ESE  ...        74.0   \n",
       "1      10.9          NE           48.0        NNW  ...        74.0   \n",
       "2       9.6          SW           26.0        NaN  ...        85.0   \n",
       "3      11.0         ESE           43.0        ESE  ...        44.0   \n",
       "4       NaN           E           20.0        ESE  ...       100.0   \n",
       "\n",
       "   Humidity3pm  Pressure9am  Pressure3pm  Cloud9am  Cloud3pm  Temp9am  \\\n",
       "0         73.0       1016.6       1013.9       5.0       7.0     21.4   \n",
       "1         55.0       1018.3       1014.6       3.0       5.0     14.3   \n",
       "2         47.0       1017.6       1014.9       1.0       2.0     16.6   \n",
       "3         37.0       1015.9       1012.1       1.0       1.0     23.2   \n",
       "4        100.0       1015.2       1010.5       8.0       8.0     16.5   \n",
       "\n",
       "   Temp3pm  RainToday  RainTomorrow  \n",
       "0     22.2         No           Yes  \n",
       "1     23.2         No            No  \n",
       "2     21.5        Yes            No  \n",
       "3     29.1         No            No  \n",
       "4     17.3        Yes           Yes  \n",
       "\n",
       "[5 rows x 23 columns]"
      ]
     },
     "execution_count": 4,
     "metadata": {},
     "output_type": "execute_result"
    }
   ],
   "source": [
    "df_train.head()"
   ]
  },
  {
   "cell_type": "code",
   "execution_count": 5,
   "metadata": {},
   "outputs": [
    {
     "name": "stdout",
     "output_type": "stream",
     "text": [
      "<class 'pandas.core.frame.DataFrame'>\n",
      "RangeIndex: 116368 entries, 0 to 116367\n",
      "Data columns (total 23 columns):\n",
      " #   Column         Non-Null Count   Dtype  \n",
      "---  ------         --------------   -----  \n",
      " 0   Date           116368 non-null  object \n",
      " 1   Location       116368 non-null  object \n",
      " 2   MinTemp        115185 non-null  float64\n",
      " 3   MaxTemp        115349 non-null  float64\n",
      " 4   Rainfall       113751 non-null  float64\n",
      " 5   Evaporation    66013 non-null   float64\n",
      " 6   Sunshine       60469 non-null   float64\n",
      " 7   WindGustDir    108098 non-null  object \n",
      " 8   WindGustSpeed  108150 non-null  float64\n",
      " 9   WindDir9am     107920 non-null  object \n",
      " 10  WindDir3pm     112999 non-null  object \n",
      " 11  WindSpeed9am   114959 non-null  float64\n",
      " 12  WindSpeed3pm   113912 non-null  float64\n",
      " 13  Humidity9am    114221 non-null  float64\n",
      " 14  Humidity3pm    112770 non-null  float64\n",
      " 15  Pressure9am    104277 non-null  float64\n",
      " 16  Pressure3pm    104304 non-null  float64\n",
      " 17  Cloud9am       71572 non-null   float64\n",
      " 18  Cloud3pm       68811 non-null   float64\n",
      " 19  Temp9am        114953 non-null  float64\n",
      " 20  Temp3pm        113503 non-null  float64\n",
      " 21  RainToday      113751 non-null  object \n",
      " 22  RainTomorrow   113745 non-null  object \n",
      "dtypes: float64(16), object(7)\n",
      "memory usage: 20.4+ MB\n"
     ]
    }
   ],
   "source": [
    "df_train.info()"
   ]
  },
  {
   "cell_type": "markdown",
   "metadata": {},
   "source": [
    "<h4>Upper case"
   ]
  },
  {
   "cell_type": "code",
   "execution_count": 6,
   "metadata": {},
   "outputs": [],
   "source": [
    "#Upper case\n",
    "def upper_case(x):\n",
    "    for i in x: #create a loop to run through whole data file\n",
    "        if x[i].dtype == \"object\": #condition: check if this value is a string or not\n",
    "            x[i] = x[i].str.upper() #return the uppercase string \n",
    "upper_case(df_train)\n",
    "upper_case(df_test)"
   ]
  },
  {
   "cell_type": "markdown",
   "metadata": {},
   "source": [
    "<h4>Extra whitespaces"
   ]
  },
  {
   "cell_type": "code",
   "execution_count": 7,
   "metadata": {},
   "outputs": [],
   "source": [
    "#Extra whitespaces\n",
    "def whitespaces_remover(x):\n",
    "    for i in x: #create a loop to run through whole data file\n",
    "        if x[i].dtype == \"object\": #check if this value is a string or not\n",
    "            x[i] = x[i].str.strip() #return the same string without whitespaces\n",
    "            \n",
    "whitespaces_remover(df_train)\n",
    "whitespaces_remover(df_test)\n",
    "\n",
    "\n"
   ]
  },
  {
   "cell_type": "markdown",
   "metadata": {},
   "source": [
    "<h4>Check typos"
   ]
  },
  {
   "cell_type": "code",
   "execution_count": 8,
   "metadata": {},
   "outputs": [
    {
     "name": "stdout",
     "output_type": "stream",
     "text": [
      "2014-09-16    49\n",
      "2016-02-26    49\n",
      "2013-12-21    49\n",
      "2015-10-17    49\n",
      "2013-10-01    49\n",
      "              ..\n",
      "2007-11-07     1\n",
      "2007-11-04     1\n",
      "2007-11-10     1\n",
      "2007-12-03     1\n",
      "2008-01-30     1\n",
      "Name: Date, Length: 3436, dtype: int64\n",
      "Canberra            3436\n",
      "Sydney              3344\n",
      "Melbourne           3193\n",
      "Hobart              3193\n",
      "Adelaide            3193\n",
      "Perth               3193\n",
      "Brisbane            3193\n",
      "Darwin              3193\n",
      "Ballarat            3040\n",
      "Albury              3040\n",
      "Launceston          3040\n",
      "GoldCoast           3040\n",
      "MountGinini         3040\n",
      "Cairns              3040\n",
      "Townsville          3040\n",
      "Bendigo             3040\n",
      "Wollongong          3040\n",
      "AliceSprings        3040\n",
      "Albany              3040\n",
      "MountGambier        3040\n",
      "Tuggeranong         3039\n",
      "Newcastle           3039\n",
      "Penrith             3039\n",
      "Cobar               3009\n",
      "MelbourneAirport    3009\n",
      "NorfolkIsland       3009\n",
      "SydneyAirport       3009\n",
      "Nuriootpa           3009\n",
      "Dartmoor            3009\n",
      "Mildura             3009\n",
      "Watsonia            3009\n",
      "PerthAirport        3009\n",
      "Richmond            3009\n",
      "Woomera             3009\n",
      "Williamtown         3009\n",
      "PearceRAAF          3009\n",
      "WaggaWagga          3009\n",
      "CoffsHarbour        3009\n",
      "Witchcliffe         3009\n",
      "Moree               3009\n",
      "BadgerysCreek       3009\n",
      "Sale                3009\n",
      "Portland            3009\n",
      "Walpole             3006\n",
      "NorahHead           3004\n",
      "SalmonGums          3001\n",
      "Uluru               1578\n",
      "Nhil                1578\n",
      "Katherine           1578\n",
      "Name: Location, dtype: int64\n",
      " 11.0    899\n",
      " 10.2    898\n",
      " 9.6     896\n",
      " 10.5    884\n",
      " 10.8    872\n",
      "        ... \n",
      "-7.2       1\n",
      " 29.9      1\n",
      " 29.8      1\n",
      " 30.2      1\n",
      " 31.9      1\n",
      "Name: MinTemp, Length: 389, dtype: int64\n",
      " 20.0    885\n",
      " 19.0    843\n",
      " 19.8    840\n",
      " 20.4    834\n",
      " 19.9    823\n",
      "        ... \n",
      " 45.6      1\n",
      " 48.1      1\n",
      "-2.7       1\n",
      "-2.4       1\n",
      " 46.2      1\n",
      "Name: MaxTemp, Length: 505, dtype: int64\n",
      "0.0      91080\n",
      "0.2       8761\n",
      "0.4       3782\n",
      "0.6       2592\n",
      "0.8       2056\n",
      "         ...  \n",
      "182.6        1\n",
      "210.6        1\n",
      "189.0        1\n",
      "219.6        1\n",
      "136.4        1\n",
      "Name: Rainfall, Length: 681, dtype: int64\n",
      "4.0     3339\n",
      "8.0     2609\n",
      "2.2     2095\n",
      "2.0     2032\n",
      "2.6     2003\n",
      "        ... \n",
      "82.4       1\n",
      "72.2       1\n",
      "59.0       1\n",
      "50.4       1\n",
      "55.0       1\n",
      "Name: Evaporation, Length: 358, dtype: int64\n",
      "0.0     2359\n",
      "10.7    1101\n",
      "11.0    1094\n",
      "10.8    1069\n",
      "10.5    1027\n",
      "        ... \n",
      "14.0      15\n",
      "14.1       6\n",
      "14.3       4\n",
      "14.2       2\n",
      "14.5       1\n",
      "Name: Sunshine, Length: 145, dtype: int64\n",
      "W      9915\n",
      "SE     9418\n",
      "N      9313\n",
      "SSE    9216\n",
      "E      9181\n",
      "S      9168\n",
      "WSW    9069\n",
      "SW     8967\n",
      "SSW    8736\n",
      "WNW    8252\n",
      "NW     8122\n",
      "ENE    8104\n",
      "ESE    7372\n",
      "NE     7133\n",
      "NNW    6620\n",
      "NNE    6548\n",
      "Name: WindGustDir, dtype: int64\n",
      "35.0     9215\n",
      "39.0     8794\n",
      "31.0     8428\n",
      "37.0     8047\n",
      "33.0     7933\n",
      "         ... \n",
      "135.0       3\n",
      "126.0       2\n",
      "124.0       2\n",
      "130.0       1\n",
      "6.0         1\n",
      "Name: WindGustSpeed, Length: 67, dtype: int64\n",
      "N      11758\n",
      "SE      9287\n",
      "E       9176\n",
      "SSE     9112\n",
      "NW      8749\n",
      "S       8659\n",
      "W       8459\n",
      "SW      8423\n",
      "NNE     8129\n",
      "NNW     7980\n",
      "ENE     7836\n",
      "NE      7671\n",
      "ESE     7630\n",
      "SSW     7587\n",
      "WNW     7414\n",
      "WSW     7024\n",
      "Name: WindDir9am, dtype: int64\n",
      "SE     10838\n",
      "W      10110\n",
      "S       9926\n",
      "WSW     9518\n",
      "SSE     9399\n",
      "SW      9354\n",
      "N       8890\n",
      "WNW     8874\n",
      "NW      8610\n",
      "ESE     8505\n",
      "E       8472\n",
      "NE      8263\n",
      "SSW     8156\n",
      "NNW     7870\n",
      "ENE     7857\n",
      "NNE     6590\n",
      "Name: WindDir3pm, dtype: int64\n",
      "9.0      13649\n",
      "13.0     13132\n",
      "11.0     11728\n",
      "17.0     10788\n",
      "7.0      10783\n",
      "15.0     10625\n",
      "6.0       9118\n",
      "19.0      8763\n",
      "0.0       8745\n",
      "20.0      8063\n",
      "4.0       6360\n",
      "22.0      5672\n",
      "24.0      5450\n",
      "2.0       4609\n",
      "26.0      3766\n",
      "28.0      3568\n",
      "30.0      2336\n",
      "31.0      2025\n",
      "33.0      1130\n",
      "35.0       977\n",
      "37.0       589\n",
      "39.0       455\n",
      "41.0       326\n",
      "43.0       272\n",
      "44.0       197\n",
      "46.0       175\n",
      "50.0        88\n",
      "48.0        87\n",
      "52.0        65\n",
      "56.0        44\n",
      "54.0        38\n",
      "57.0        22\n",
      "61.0        11\n",
      "63.0         9\n",
      "65.0         8\n",
      "59.0         5\n",
      "67.0         4\n",
      "74.0         4\n",
      "69.0         2\n",
      "87.0         2\n",
      "130.0        1\n",
      "72.0         1\n",
      "83.0         1\n",
      "Name: WindSpeed9am, dtype: int64\n",
      "13.0    12580\n",
      "17.0    12539\n",
      "20.0    11713\n",
      "15.0    11483\n",
      "19.0    11263\n",
      "11.0    10015\n",
      "9.0      9753\n",
      "24.0     9052\n",
      "22.0     8598\n",
      "28.0     6553\n",
      "26.0     6508\n",
      "7.0      5903\n",
      "30.0     4589\n",
      "31.0     3985\n",
      "6.0      3805\n",
      "33.0     2510\n",
      "4.0      2249\n",
      "35.0     2155\n",
      "37.0     1370\n",
      "0.0      1112\n",
      "39.0     1106\n",
      "2.0      1034\n",
      "41.0      656\n",
      "43.0      558\n",
      "44.0      351\n",
      "46.0      288\n",
      "50.0      182\n",
      "48.0      181\n",
      "52.0       85\n",
      "54.0       58\n",
      "56.0       55\n",
      "57.0       27\n",
      "59.0       20\n",
      "65.0       18\n",
      "61.0       18\n",
      "63.0       13\n",
      "69.0        3\n",
      "83.0        2\n",
      "72.0        2\n",
      "76.0        2\n",
      "78.0        1\n",
      "67.0        1\n",
      "87.0        1\n",
      "74.0        1\n",
      "Name: WindSpeed3pm, dtype: int64\n",
      "99.0    3391\n",
      "70.0    3026\n",
      "69.0    3023\n",
      "65.0    3014\n",
      "68.0    3011\n",
      "        ... \n",
      "4.0       20\n",
      "3.0       10\n",
      "2.0        8\n",
      "1.0        5\n",
      "0.0        1\n",
      "Name: Humidity9am, Length: 101, dtype: int64\n",
      "52.0    2751\n",
      "55.0    2738\n",
      "57.0    2728\n",
      "53.0    2697\n",
      "59.0    2690\n",
      "        ... \n",
      "4.0      113\n",
      "3.0       63\n",
      "2.0       35\n",
      "1.0       26\n",
      "0.0        4\n",
      "Name: Humidity3pm, Length: 101, dtype: int64\n",
      "1016.4    816\n",
      "1017.9    789\n",
      "1016.3    775\n",
      "1018.7    775\n",
      "1017.3    769\n",
      "         ... \n",
      "987.0       1\n",
      "989.9       1\n",
      "985.8       1\n",
      "987.1       1\n",
      "983.7       1\n",
      "Name: Pressure9am, Length: 546, dtype: int64\n",
      "1015.3    786\n",
      "1015.5    783\n",
      "1015.6    776\n",
      "1015.7    773\n",
      "1013.5    767\n",
      "         ... \n",
      "985.3       1\n",
      "1037.2      1\n",
      "986.9       1\n",
      "1037.6      1\n",
      "984.4       1\n",
      "Name: Pressure3pm, Length: 549, dtype: int64\n",
      "7.0    19972\n",
      "1.0    15687\n",
      "8.0    14697\n",
      "0.0     8642\n",
      "6.0     8171\n",
      "2.0     6500\n",
      "3.0     5914\n",
      "5.0     5567\n",
      "4.0     4420\n",
      "9.0        2\n",
      "Name: Cloud9am, dtype: int64\n",
      "7.0    18229\n",
      "1.0    14976\n",
      "8.0    12660\n",
      "6.0     8978\n",
      "2.0     7226\n",
      "3.0     6921\n",
      "5.0     6815\n",
      "4.0     5322\n",
      "0.0     4974\n",
      "9.0        1\n",
      "Name: Cloud3pm, dtype: int64\n",
      " 17.0    912\n",
      " 13.8    900\n",
      " 14.8    894\n",
      " 16.0    882\n",
      " 14.0    876\n",
      "        ... \n",
      "-7.2       1\n",
      " 36.6      1\n",
      " 38.3      1\n",
      " 38.2      1\n",
      "-4.4       1\n",
      "Name: Temp9am, Length: 441, dtype: int64\n",
      " 20.0    882\n",
      " 19.0    869\n",
      " 18.5    869\n",
      " 18.4    868\n",
      " 17.8    859\n",
      "        ... \n",
      " 45.0      1\n",
      " 46.7      1\n",
      "-4.4       1\n",
      "-5.4       1\n",
      "-3.8       1\n",
      "Name: Temp3pm, Length: 502, dtype: int64\n",
      "No     110319\n",
      "Yes     31880\n",
      "Name: RainToday, dtype: int64\n",
      "No     110316\n",
      "Yes     31877\n",
      "Name: RainTomorrow, dtype: int64\n"
     ]
    }
   ],
   "source": [
    "#Checking typos\n",
    "#Find errors\n",
    "def check_typos(x):\n",
    "    for i in x: # Loop through the dataframe\n",
    "#         if x[i].dtype == \"object\": # Get object type values\n",
    "            print(x[i].value_counts()) # Return frequency of object values\n",
    "check_typos(df)"
   ]
  },
  {
   "cell_type": "markdown",
   "metadata": {},
   "source": [
    "After checking data, there is no typo mistake in this dataset"
   ]
  },
  {
   "cell_type": "markdown",
   "metadata": {},
   "source": [
    "<h4>Handle missing value"
   ]
  },
  {
   "cell_type": "code",
   "execution_count": 9,
   "metadata": {},
   "outputs": [
    {
     "data": {
      "text/plain": [
       "Date                 0\n",
       "Location             0\n",
       "MinTemp           1183\n",
       "MaxTemp           1019\n",
       "Rainfall          2617\n",
       "Evaporation      50355\n",
       "Sunshine         55899\n",
       "WindGustDir       8270\n",
       "WindGustSpeed     8218\n",
       "WindDir9am        8448\n",
       "WindDir3pm        3369\n",
       "WindSpeed9am      1409\n",
       "WindSpeed3pm      2456\n",
       "Humidity9am       2147\n",
       "Humidity3pm       3598\n",
       "Pressure9am      12091\n",
       "Pressure3pm      12064\n",
       "Cloud9am         44796\n",
       "Cloud3pm         47557\n",
       "Temp9am           1415\n",
       "Temp3pm           2865\n",
       "RainToday         2617\n",
       "RainTomorrow      2623\n",
       "dtype: int64"
      ]
     },
     "execution_count": 9,
     "metadata": {},
     "output_type": "execute_result"
    }
   ],
   "source": [
    "#Missing values\n",
    "df_train.isna().sum()"
   ]
  },
  {
   "cell_type": "code",
   "execution_count": 10,
   "metadata": {},
   "outputs": [
    {
     "data": {
      "text/plain": [
       "Date                 0\n",
       "Location             0\n",
       "MinTemp            302\n",
       "MaxTemp            242\n",
       "Rainfall           644\n",
       "Evaporation      12435\n",
       "Sunshine         13936\n",
       "WindGustDir       2056\n",
       "WindGustSpeed     2045\n",
       "WindDir9am        2118\n",
       "WindDir3pm         859\n",
       "WindSpeed9am       358\n",
       "WindSpeed3pm       606\n",
       "Humidity9am        507\n",
       "Humidity3pm        909\n",
       "Pressure9am       2974\n",
       "Pressure3pm       2964\n",
       "Cloud9am         11092\n",
       "Cloud3pm         11801\n",
       "Temp9am            352\n",
       "Temp3pm            744\n",
       "RainToday          644\n",
       "RainTomorrow       644\n",
       "dtype: int64"
      ]
     },
     "execution_count": 10,
     "metadata": {},
     "output_type": "execute_result"
    }
   ],
   "source": [
    "df_test.isna().sum()"
   ]
  },
  {
   "cell_type": "markdown",
   "metadata": {},
   "source": [
    "* It can be seen that there are many missing values.\n",
    "* We have 23 columns. (22 if we exclude target feature)\n",
    "* We will extract Date column into Day, Month and Year column separately. Then we will dop Date column\n",
    "* Lastly, in RainTomorrow column we'll replace No with 0 and Yes with 1. We will do the same with the RainToday column too."
   ]
  },
  {
   "cell_type": "code",
   "execution_count": 11,
   "metadata": {},
   "outputs": [],
   "source": [
    "df_train = df_train.drop(columns={\"Date\"}, axis =1)\n",
    "df_test = df_test.drop(columns={\"Date\"}, axis =1)"
   ]
  },
  {
   "cell_type": "markdown",
   "metadata": {},
   "source": [
    "* \"Date\" column will be excluded from the model because it does not add any relevance in the current context"
   ]
  },
  {
   "cell_type": "code",
   "execution_count": 12,
   "metadata": {},
   "outputs": [],
   "source": [
    "# binary encoding (for df_X_train data)\n",
    "\n",
    "df_train['RainTomorrow'] = df_train['RainTomorrow'].apply(lambda x:1 if type(x)==str else 0)\n",
    "df_train['RainToday'] = df_train['RainToday'].apply(lambda x:1 if type(x)==str else 0)\n",
    "\n",
    "# binary encoding (for df_X_test data)\n",
    "\n",
    "df_test['RainTomorrow'] = df_test['RainTomorrow'].apply(lambda x:1 if type(x)==str else 0)\n",
    "df_test['RainToday'] = df_test['RainToday'].apply(lambda x:1 if type(x)==str else 0)"
   ]
  },
  {
   "cell_type": "code",
   "execution_count": 13,
   "metadata": {},
   "outputs": [
    {
     "data": {
      "text/html": [
       "<div>\n",
       "<style scoped>\n",
       "    .dataframe tbody tr th:only-of-type {\n",
       "        vertical-align: middle;\n",
       "    }\n",
       "\n",
       "    .dataframe tbody tr th {\n",
       "        vertical-align: top;\n",
       "    }\n",
       "\n",
       "    .dataframe thead th {\n",
       "        text-align: right;\n",
       "    }\n",
       "</style>\n",
       "<table border=\"1\" class=\"dataframe\">\n",
       "  <thead>\n",
       "    <tr style=\"text-align: right;\">\n",
       "      <th></th>\n",
       "      <th>Total of missing value</th>\n",
       "      <th>Percent of missing value</th>\n",
       "    </tr>\n",
       "  </thead>\n",
       "  <tbody>\n",
       "    <tr>\n",
       "      <th>Sunshine</th>\n",
       "      <td>55899</td>\n",
       "      <td>48.04</td>\n",
       "    </tr>\n",
       "    <tr>\n",
       "      <th>Evaporation</th>\n",
       "      <td>50355</td>\n",
       "      <td>43.27</td>\n",
       "    </tr>\n",
       "    <tr>\n",
       "      <th>Cloud3pm</th>\n",
       "      <td>47557</td>\n",
       "      <td>40.87</td>\n",
       "    </tr>\n",
       "    <tr>\n",
       "      <th>Cloud9am</th>\n",
       "      <td>44796</td>\n",
       "      <td>38.50</td>\n",
       "    </tr>\n",
       "    <tr>\n",
       "      <th>Pressure9am</th>\n",
       "      <td>12091</td>\n",
       "      <td>10.39</td>\n",
       "    </tr>\n",
       "    <tr>\n",
       "      <th>Pressure3pm</th>\n",
       "      <td>12064</td>\n",
       "      <td>10.37</td>\n",
       "    </tr>\n",
       "    <tr>\n",
       "      <th>WindDir9am</th>\n",
       "      <td>8448</td>\n",
       "      <td>7.26</td>\n",
       "    </tr>\n",
       "    <tr>\n",
       "      <th>WindGustDir</th>\n",
       "      <td>8270</td>\n",
       "      <td>7.11</td>\n",
       "    </tr>\n",
       "    <tr>\n",
       "      <th>WindGustSpeed</th>\n",
       "      <td>8218</td>\n",
       "      <td>7.06</td>\n",
       "    </tr>\n",
       "    <tr>\n",
       "      <th>Humidity3pm</th>\n",
       "      <td>3598</td>\n",
       "      <td>3.09</td>\n",
       "    </tr>\n",
       "    <tr>\n",
       "      <th>WindDir3pm</th>\n",
       "      <td>3369</td>\n",
       "      <td>2.90</td>\n",
       "    </tr>\n",
       "    <tr>\n",
       "      <th>Temp3pm</th>\n",
       "      <td>2865</td>\n",
       "      <td>2.46</td>\n",
       "    </tr>\n",
       "    <tr>\n",
       "      <th>Rainfall</th>\n",
       "      <td>2617</td>\n",
       "      <td>2.25</td>\n",
       "    </tr>\n",
       "    <tr>\n",
       "      <th>WindSpeed3pm</th>\n",
       "      <td>2456</td>\n",
       "      <td>2.11</td>\n",
       "    </tr>\n",
       "    <tr>\n",
       "      <th>Humidity9am</th>\n",
       "      <td>2147</td>\n",
       "      <td>1.85</td>\n",
       "    </tr>\n",
       "    <tr>\n",
       "      <th>Temp9am</th>\n",
       "      <td>1415</td>\n",
       "      <td>1.22</td>\n",
       "    </tr>\n",
       "    <tr>\n",
       "      <th>WindSpeed9am</th>\n",
       "      <td>1409</td>\n",
       "      <td>1.21</td>\n",
       "    </tr>\n",
       "    <tr>\n",
       "      <th>MinTemp</th>\n",
       "      <td>1183</td>\n",
       "      <td>1.02</td>\n",
       "    </tr>\n",
       "    <tr>\n",
       "      <th>MaxTemp</th>\n",
       "      <td>1019</td>\n",
       "      <td>0.88</td>\n",
       "    </tr>\n",
       "  </tbody>\n",
       "</table>\n",
       "</div>"
      ],
      "text/plain": [
       "               Total of missing value  Percent of missing value\n",
       "Sunshine                        55899                     48.04\n",
       "Evaporation                     50355                     43.27\n",
       "Cloud3pm                        47557                     40.87\n",
       "Cloud9am                        44796                     38.50\n",
       "Pressure9am                     12091                     10.39\n",
       "Pressure3pm                     12064                     10.37\n",
       "WindDir9am                       8448                      7.26\n",
       "WindGustDir                      8270                      7.11\n",
       "WindGustSpeed                    8218                      7.06\n",
       "Humidity3pm                      3598                      3.09\n",
       "WindDir3pm                       3369                      2.90\n",
       "Temp3pm                          2865                      2.46\n",
       "Rainfall                         2617                      2.25\n",
       "WindSpeed3pm                     2456                      2.11\n",
       "Humidity9am                      2147                      1.85\n",
       "Temp9am                          1415                      1.22\n",
       "WindSpeed9am                     1409                      1.21\n",
       "MinTemp                          1183                      1.02\n",
       "MaxTemp                          1019                      0.88"
      ]
     },
     "execution_count": 13,
     "metadata": {},
     "output_type": "execute_result"
    }
   ],
   "source": [
    "def missing_percentage(df): # show the percentage of missing value in the dataset\n",
    "    total = df.isna().sum().sort_values(ascending = False)[df.isnull().sum().sort_values(ascending = False) != 0]\n",
    "    percent = round(df.isnull().sum().sort_values(ascending = False)/len(df)*100,2)[round(df.isnull().sum().sort_values(ascending = False)/len(df)*100,2) != 0]\n",
    "    return pd.concat([total, percent], axis=1, keys=['Total of missing value','Percent of missing value'])\n",
    "\n",
    "# Execute the function\n",
    "missing_percentage(df_train)"
   ]
  },
  {
   "cell_type": "code",
   "execution_count": 14,
   "metadata": {},
   "outputs": [
    {
     "data": {
      "text/html": [
       "<div>\n",
       "<style scoped>\n",
       "    .dataframe tbody tr th:only-of-type {\n",
       "        vertical-align: middle;\n",
       "    }\n",
       "\n",
       "    .dataframe tbody tr th {\n",
       "        vertical-align: top;\n",
       "    }\n",
       "\n",
       "    .dataframe thead th {\n",
       "        text-align: right;\n",
       "    }\n",
       "</style>\n",
       "<table border=\"1\" class=\"dataframe\">\n",
       "  <thead>\n",
       "    <tr style=\"text-align: right;\">\n",
       "      <th></th>\n",
       "      <th>Total of missing value</th>\n",
       "      <th>Percent of missing value</th>\n",
       "    </tr>\n",
       "  </thead>\n",
       "  <tbody>\n",
       "    <tr>\n",
       "      <th>Sunshine</th>\n",
       "      <td>13936</td>\n",
       "      <td>47.90</td>\n",
       "    </tr>\n",
       "    <tr>\n",
       "      <th>Evaporation</th>\n",
       "      <td>12435</td>\n",
       "      <td>42.74</td>\n",
       "    </tr>\n",
       "    <tr>\n",
       "      <th>Cloud3pm</th>\n",
       "      <td>11801</td>\n",
       "      <td>40.56</td>\n",
       "    </tr>\n",
       "    <tr>\n",
       "      <th>Cloud9am</th>\n",
       "      <td>11092</td>\n",
       "      <td>38.13</td>\n",
       "    </tr>\n",
       "    <tr>\n",
       "      <th>Pressure9am</th>\n",
       "      <td>2974</td>\n",
       "      <td>10.22</td>\n",
       "    </tr>\n",
       "    <tr>\n",
       "      <th>Pressure3pm</th>\n",
       "      <td>2964</td>\n",
       "      <td>10.19</td>\n",
       "    </tr>\n",
       "    <tr>\n",
       "      <th>WindDir9am</th>\n",
       "      <td>2118</td>\n",
       "      <td>7.28</td>\n",
       "    </tr>\n",
       "    <tr>\n",
       "      <th>WindGustDir</th>\n",
       "      <td>2056</td>\n",
       "      <td>7.07</td>\n",
       "    </tr>\n",
       "    <tr>\n",
       "      <th>WindGustSpeed</th>\n",
       "      <td>2045</td>\n",
       "      <td>7.03</td>\n",
       "    </tr>\n",
       "    <tr>\n",
       "      <th>Humidity3pm</th>\n",
       "      <td>909</td>\n",
       "      <td>3.12</td>\n",
       "    </tr>\n",
       "    <tr>\n",
       "      <th>WindDir3pm</th>\n",
       "      <td>859</td>\n",
       "      <td>2.95</td>\n",
       "    </tr>\n",
       "    <tr>\n",
       "      <th>Temp3pm</th>\n",
       "      <td>744</td>\n",
       "      <td>2.56</td>\n",
       "    </tr>\n",
       "    <tr>\n",
       "      <th>Rainfall</th>\n",
       "      <td>644</td>\n",
       "      <td>2.21</td>\n",
       "    </tr>\n",
       "    <tr>\n",
       "      <th>WindSpeed3pm</th>\n",
       "      <td>606</td>\n",
       "      <td>2.08</td>\n",
       "    </tr>\n",
       "    <tr>\n",
       "      <th>Humidity9am</th>\n",
       "      <td>507</td>\n",
       "      <td>1.74</td>\n",
       "    </tr>\n",
       "    <tr>\n",
       "      <th>WindSpeed9am</th>\n",
       "      <td>358</td>\n",
       "      <td>1.23</td>\n",
       "    </tr>\n",
       "    <tr>\n",
       "      <th>Temp9am</th>\n",
       "      <td>352</td>\n",
       "      <td>1.21</td>\n",
       "    </tr>\n",
       "    <tr>\n",
       "      <th>MinTemp</th>\n",
       "      <td>302</td>\n",
       "      <td>1.04</td>\n",
       "    </tr>\n",
       "    <tr>\n",
       "      <th>MaxTemp</th>\n",
       "      <td>242</td>\n",
       "      <td>0.83</td>\n",
       "    </tr>\n",
       "  </tbody>\n",
       "</table>\n",
       "</div>"
      ],
      "text/plain": [
       "               Total of missing value  Percent of missing value\n",
       "Sunshine                        13936                     47.90\n",
       "Evaporation                     12435                     42.74\n",
       "Cloud3pm                        11801                     40.56\n",
       "Cloud9am                        11092                     38.13\n",
       "Pressure9am                      2974                     10.22\n",
       "Pressure3pm                      2964                     10.19\n",
       "WindDir9am                       2118                      7.28\n",
       "WindGustDir                      2056                      7.07\n",
       "WindGustSpeed                    2045                      7.03\n",
       "Humidity3pm                       909                      3.12\n",
       "WindDir3pm                        859                      2.95\n",
       "Temp3pm                           744                      2.56\n",
       "Rainfall                          644                      2.21\n",
       "WindSpeed3pm                      606                      2.08\n",
       "Humidity9am                       507                      1.74\n",
       "WindSpeed9am                      358                      1.23\n",
       "Temp9am                           352                      1.21\n",
       "MinTemp                           302                      1.04\n",
       "MaxTemp                           242                      0.83"
      ]
     },
     "execution_count": 14,
     "metadata": {},
     "output_type": "execute_result"
    }
   ],
   "source": [
    "# Execute the function\n",
    "missing_percentage(df_test)"
   ]
  },
  {
   "cell_type": "markdown",
   "metadata": {},
   "source": [
    "* We can see a lot of missing value in the first 4 columns namely Sunshine, Evaporation, Cloud3pm, Cloud9am. Hence, we will drop these columns\n",
    "\n",
    "* Since we make a prediction of rain in Australia, not a specific location so we can also exclude Location"
   ]
  },
  {
   "cell_type": "code",
   "execution_count": 15,
   "metadata": {},
   "outputs": [],
   "source": [
    "# We will drop unnecessary columns \n",
    "df_train = df_train.drop(columns={\"Sunshine\",\n",
    "                                  \"Evaporation\",\n",
    "                                  \"Cloud3pm\",\n",
    "                                  \"Cloud9am\",\n",
    "                                  \"Location\"\n",
    "                                 }, axis =1)\n",
    "df_test = df_test.drop(columns={\"Sunshine\",\n",
    "                                  \"Evaporation\",\n",
    "                                  \"Cloud3pm\",\n",
    "                                  \"Cloud9am\",\n",
    "                                  \"Location\"\n",
    "                               }, axis =1)"
   ]
  },
  {
   "cell_type": "code",
   "execution_count": 16,
   "metadata": {},
   "outputs": [
    {
     "name": "stdout",
     "output_type": "stream",
     "text": [
      "(116368, 17)\n",
      "(29092, 17)\n"
     ]
    }
   ],
   "source": [
    "print(df_train.shape)\n",
    "print(df_test.shape)"
   ]
  },
  {
   "cell_type": "markdown",
   "metadata": {},
   "source": [
    "* We will assume that the data are missing completely at random (MCAR). When there are outliers in the dataset, we should use median imputation for numerical values (except RainToday, RainTomorrow). So, we will use median imputation because median imputation is robust to outliers."
   ]
  },
  {
   "cell_type": "code",
   "execution_count": 17,
   "metadata": {},
   "outputs": [],
   "source": [
    "def fillna_object(x):\n",
    "    for i in x: # Loop through the dataframe\n",
    "        if x[i].dtype == \"object\": # Get object type values\n",
    "            x[i] = x[i].fillna('UNKNOWN')\n",
    "fillna_object(df_train)\n",
    "fillna_object(df_test)"
   ]
  },
  {
   "cell_type": "code",
   "execution_count": 18,
   "metadata": {},
   "outputs": [],
   "source": [
    "def fillna_float(x):\n",
    "    for i in x: # Loop through the dataframe\n",
    "        if x[i].dtype == \"float64\": # Get object type values\n",
    "            x[i] = x[i].fillna(math.floor(df[i].median()))\n",
    "fillna_float(df_train)\n",
    "fillna_float(df_test)"
   ]
  },
  {
   "cell_type": "code",
   "execution_count": 19,
   "metadata": {},
   "outputs": [
    {
     "name": "stdout",
     "output_type": "stream",
     "text": [
      "<class 'pandas.core.frame.DataFrame'>\n",
      "RangeIndex: 116368 entries, 0 to 116367\n",
      "Data columns (total 17 columns):\n",
      " #   Column         Non-Null Count   Dtype  \n",
      "---  ------         --------------   -----  \n",
      " 0   MinTemp        116368 non-null  float64\n",
      " 1   MaxTemp        116368 non-null  float64\n",
      " 2   Rainfall       116368 non-null  float64\n",
      " 3   WindGustDir    116368 non-null  object \n",
      " 4   WindGustSpeed  116368 non-null  float64\n",
      " 5   WindDir9am     116368 non-null  object \n",
      " 6   WindDir3pm     116368 non-null  object \n",
      " 7   WindSpeed9am   116368 non-null  float64\n",
      " 8   WindSpeed3pm   116368 non-null  float64\n",
      " 9   Humidity9am    116368 non-null  float64\n",
      " 10  Humidity3pm    116368 non-null  float64\n",
      " 11  Pressure9am    116368 non-null  float64\n",
      " 12  Pressure3pm    116368 non-null  float64\n",
      " 13  Temp9am        116368 non-null  float64\n",
      " 14  Temp3pm        116368 non-null  float64\n",
      " 15  RainToday      116368 non-null  int64  \n",
      " 16  RainTomorrow   116368 non-null  int64  \n",
      "dtypes: float64(12), int64(2), object(3)\n",
      "memory usage: 15.1+ MB\n",
      "<class 'pandas.core.frame.DataFrame'>\n",
      "RangeIndex: 29092 entries, 0 to 29091\n",
      "Data columns (total 17 columns):\n",
      " #   Column         Non-Null Count  Dtype  \n",
      "---  ------         --------------  -----  \n",
      " 0   MinTemp        29092 non-null  float64\n",
      " 1   MaxTemp        29092 non-null  float64\n",
      " 2   Rainfall       29092 non-null  float64\n",
      " 3   WindGustDir    29092 non-null  object \n",
      " 4   WindGustSpeed  29092 non-null  float64\n",
      " 5   WindDir9am     29092 non-null  object \n",
      " 6   WindDir3pm     29092 non-null  object \n",
      " 7   WindSpeed9am   29092 non-null  float64\n",
      " 8   WindSpeed3pm   29092 non-null  float64\n",
      " 9   Humidity9am    29092 non-null  float64\n",
      " 10  Humidity3pm    29092 non-null  float64\n",
      " 11  Pressure9am    29092 non-null  float64\n",
      " 12  Pressure3pm    29092 non-null  float64\n",
      " 13  Temp9am        29092 non-null  float64\n",
      " 14  Temp3pm        29092 non-null  float64\n",
      " 15  RainToday      29092 non-null  int64  \n",
      " 16  RainTomorrow   29092 non-null  int64  \n",
      "dtypes: float64(12), int64(2), object(3)\n",
      "memory usage: 3.8+ MB\n"
     ]
    }
   ],
   "source": [
    "df_train.info()\n",
    "df_test.info()"
   ]
  },
  {
   "cell_type": "markdown",
   "metadata": {},
   "source": [
    "<h2> Task 1.2: Data Exploration"
   ]
  },
  {
   "cell_type": "code",
   "execution_count": 20,
   "metadata": {},
   "outputs": [
    {
     "data": {
      "text/plain": [
       "<matplotlib.legend.Legend at 0x7fb9c9f35a60>"
      ]
     },
     "execution_count": 20,
     "metadata": {},
     "output_type": "execute_result"
    },
    {
     "data": {
      "image/png": "[encoded data removed]",
      "text/plain": [
       "<Figure size 1080x720 with 1 Axes>"
      ]
     },
     "metadata": {},
     "output_type": "display_data"
    }
   ],
   "source": [
    "# Contact visualization\n",
    "df_train['RainToday'].value_counts().plot(kind=\"pie\", autopct ='%.2f', figsize = (15, 10))\n",
    "#Define the title and set legend\n",
    "plt.title(\"Raining day visualization\")\n",
    "plt.legend(loc = \"best\", bbox_to_anchor = (1, 1) )"
   ]
  },
  {
   "cell_type": "code",
   "execution_count": 21,
   "metadata": {},
   "outputs": [
    {
     "data": {
      "text/plain": [
       "Text(0, 0.5, 'Frequency')"
      ]
     },
     "execution_count": 21,
     "metadata": {},
     "output_type": "execute_result"
    },
    {
     "data": {
      "image/png": "[encoded data removed]",
      "text/plain": [
       "<Figure size 720x720 with 1 Axes>"
      ]
     },
     "metadata": {
      "needs_background": "light"
     },
     "output_type": "display_data"
    }
   ],
   "source": [
    "#Wind Gust visualization\n",
    "df_train[\"WindGustDir\"].value_counts()\n",
    "figure = plt.figure(figsize=(10, 10)) \n",
    "#Define the axis\n",
    "ax = figure.gca() \n",
    "#Draw the graph\n",
    "df_train[\"WindGustDir\"].value_counts().plot.bar(ax = ax)\n",
    "#Define the plot title, x label, y label\n",
    "plt.legend(loc = \"upper left\", bbox_to_anchor = (1, 1) )\n",
    "ax.set_title('Statistic of direction of wind gust')\n",
    "ax.set_xlabel('Wind Gust Direction') \n",
    "ax.set_ylabel('Frequency')"
   ]
  },
  {
   "cell_type": "code",
   "execution_count": 22,
   "metadata": {},
   "outputs": [
    {
     "data": {
      "text/plain": [
       "<AxesSubplot:xlabel='Humidity9am'>"
      ]
     },
     "execution_count": 22,
     "metadata": {},
     "output_type": "execute_result"
    },
    {
     "data": {
      "image/png": "[encoded data removed]",
      "text/plain": [
       "<Figure size 1440x576 with 1 Axes>"
      ]
     },
     "metadata": {
      "needs_background": "light"
     },
     "output_type": "display_data"
    }
   ],
   "source": [
    "# check outliner\n",
    "plt.figure(figsize=(20,8))\n",
    "sns.boxplot(x = df_train[\"Humidity9am\"])"
   ]
  },
  {
   "cell_type": "code",
   "execution_count": 23,
   "metadata": {},
   "outputs": [],
   "source": [
    "df_train_subset = df_train.drop(df_train.index[df_train['Humidity9am']<18])"
   ]
  },
  {
   "cell_type": "code",
   "execution_count": 24,
   "metadata": {},
   "outputs": [
    {
     "data": {
      "text/plain": [
       "Text(0, 0.5, 'Frequency')"
      ]
     },
     "execution_count": 24,
     "metadata": {},
     "output_type": "execute_result"
    },
    {
     "data": {
      "image/png": "[encoded data removed]",
      "text/plain": [
       "<Figure size 720x720 with 1 Axes>"
      ]
     },
     "metadata": {
      "needs_background": "light"
     },
     "output_type": "display_data"
    }
   ],
   "source": [
    "figure = plt.figure(figsize=(10,10)) \n",
    "#Define the axis\n",
    "ax = figure.gca()\n",
    "#Draw the plot using histogram plot\n",
    "df_train_subset['Humidity9am'].plot.hist(ax = ax)\n",
    "#Define the title, x label, y label\n",
    "plt.legend(loc = \"upper left\", bbox_to_anchor = (1, 1) )\n",
    "ax.set_title('Humidity at 9am distribution')\n",
    "ax.set_xlabel('Humidity') \n",
    "ax.set_ylabel('Frequency')"
   ]
  },
  {
   "cell_type": "code",
   "execution_count": 25,
   "metadata": {},
   "outputs": [
    {
     "data": {
      "text/plain": [
       "Text(0, 0.5, 'MaxTemp')"
      ]
     },
     "execution_count": 25,
     "metadata": {},
     "output_type": "execute_result"
    },
    {
     "data": {
      "image/png": "[encoded data removed]",
      "text/plain": [
       "<Figure size 720x720 with 1 Axes>"
      ]
     },
     "metadata": {
      "needs_background": "light"
     },
     "output_type": "display_data"
    }
   ],
   "source": [
    "#set the plot area\n",
    "figure = plt.figure(figsize=(10,10)) \n",
    "# Define axis \n",
    "ax = figure.gca()    \n",
    "df_train[['MaxTemp','RainToday']].boxplot(by = 'RainToday', ax = ax, showfliers=False) \n",
    "#Define title, x lable and y lable\n",
    "# plt.legend(loc = \"upper left\", bbox_to_anchor = (1, 1) )\n",
    "ax.set_title('Box plots of posibilities of raining today by maximum temparature') \n",
    "ax.set_xlabel('RainToday')\n",
    "ax.set_ylabel('MaxTemp')"
   ]
  },
  {
   "cell_type": "code",
   "execution_count": 26,
   "metadata": {},
   "outputs": [],
   "source": [
    "# #set the plot area\n",
    "# figure = plt.figure(figsize=(18,10)) \n",
    "# # define axis \n",
    "# ax = figure.gca()    \n",
    "# sns.histplot(data=df_train, x=df_train['Cloud9am'], y=df_train['Temp9am'])\n",
    "# #set title, x lable and y lable\n",
    "# # plt.legend(loc = \"upper left\", bbox_to_anchor = (1, 1) )\n",
    "# ax.set_title('Relationship between cloud at 9am and the temparature at 9 am') \n",
    "# ax.set_xlabel('Cloud9am')\n",
    "# ax.set_ylabel('Temp9am')"
   ]
  },
  {
   "cell_type": "code",
   "execution_count": 27,
   "metadata": {},
   "outputs": [
    {
     "data": {
      "text/plain": [
       "Text(0, 0.5, 'WindGustSpeed')"
      ]
     },
     "execution_count": 27,
     "metadata": {},
     "output_type": "execute_result"
    },
    {
     "data": {
      "image/png": "[encoded data removed]",
      "text/plain": [
       "<Figure size 720x720 with 1 Axes>"
      ]
     },
     "metadata": {
      "needs_background": "light"
     },
     "output_type": "display_data"
    }
   ],
   "source": [
    "#set the plot area\n",
    "figure = plt.figure(figsize=(10,10)) \n",
    "# Define axis \n",
    "ax = figure.gca()    \n",
    "df_train[['WindGustSpeed','RainToday']].boxplot(by = 'RainToday', ax = ax, showfliers=False) \n",
    "#Define title, x lable and y lable\n",
    "# plt.legend(loc = \"upper left\", bbox_to_anchor = (1, 1) )\n",
    "ax.set_title('Box plots of posibilities of raining today by wind gust speed') \n",
    "ax.set_xlabel('RainToday')\n",
    "ax.set_ylabel('WindGustSpeed')"
   ]
  },
  {
   "cell_type": "code",
   "execution_count": 28,
   "metadata": {},
   "outputs": [],
   "source": [
    "# IMPORTANT: Save test set in json format for testing API (evaluate)\n",
    "df_test.to_json('test_evaluate.json', orient='index')"
   ]
  },
  {
   "cell_type": "code",
   "execution_count": 29,
   "metadata": {},
   "outputs": [],
   "source": [
    "# IMPORTANT: Save test set in json format for testing API (predict)\n",
    "output = df_test.iloc[:, :-1]\n",
    "output.to_json('test_predict.json', orient='index')"
   ]
  },
  {
   "cell_type": "code",
   "execution_count": 30,
   "metadata": {},
   "outputs": [],
   "source": [
    "# make copies for df_train and df_test\n",
    "df_train_copy = df_train.copy()\n",
    "df_test_copy = df_test.copy()"
   ]
  },
  {
   "cell_type": "markdown",
   "metadata": {},
   "source": [
    "<h2> Task 2: Data Modelling "
   ]
  },
  {
   "cell_type": "markdown",
   "metadata": {},
   "source": [
    "<h3> MODEL 1: RANDOM FOREST CLASSIFIER"
   ]
  },
  {
   "cell_type": "markdown",
   "metadata": {},
   "source": [
    "<h4>1/ Train/val/test split"
   ]
  },
  {
   "cell_type": "code",
   "execution_count": 31,
   "metadata": {},
   "outputs": [],
   "source": [
    "X_train = df_train.drop(['RainTomorrow'], axis=1)\n",
    "X_test = df_test.drop(['RainTomorrow'], axis=1)\n",
    "\n",
    "y_train = df_train['RainTomorrow']\n",
    "y_test = df_test['RainTomorrow']"
   ]
  },
  {
   "cell_type": "code",
   "execution_count": 32,
   "metadata": {},
   "outputs": [
    {
     "name": "stdout",
     "output_type": "stream",
     "text": [
      "(116368, 16)\n",
      "(29092, 16)\n",
      "(116368,)\n",
      "(29092,)\n"
     ]
    }
   ],
   "source": [
    "# check the shape \n",
    "print(X_train.shape)\n",
    "print(X_test.shape)\n",
    "print(y_train.shape)\n",
    "print(y_test.shape)"
   ]
  },
  {
   "cell_type": "markdown",
   "metadata": {},
   "source": [
    "<h4>2/ Feature Engineering"
   ]
  },
  {
   "cell_type": "code",
   "execution_count": 33,
   "metadata": {},
   "outputs": [
    {
     "data": {
      "text/plain": [
       "['WindGustDir', 'WindDir9am', 'WindDir3pm']"
      ]
     },
     "execution_count": 33,
     "metadata": {},
     "output_type": "execute_result"
    }
   ],
   "source": [
    "# display all categorical variables\n",
    "categorical = [col for col in X_train.columns if X_train[col].dtypes == 'O']\n",
    "\n",
    "categorical"
   ]
  },
  {
   "cell_type": "code",
   "execution_count": 34,
   "metadata": {},
   "outputs": [
    {
     "data": {
      "text/plain": [
       "['MinTemp',\n",
       " 'MaxTemp',\n",
       " 'Rainfall',\n",
       " 'WindGustSpeed',\n",
       " 'WindSpeed9am',\n",
       " 'WindSpeed3pm',\n",
       " 'Humidity9am',\n",
       " 'Humidity3pm',\n",
       " 'Pressure9am',\n",
       " 'Pressure3pm',\n",
       " 'Temp9am',\n",
       " 'Temp3pm',\n",
       " 'RainToday']"
      ]
     },
     "execution_count": 34,
     "metadata": {},
     "output_type": "execute_result"
    }
   ],
   "source": [
    "# display all numerical variables\n",
    "numerical = [col for col in X_train.columns if X_train[col].dtypes != 'O']\n",
    "\n",
    "numerical"
   ]
  },
  {
   "cell_type": "markdown",
   "metadata": {},
   "source": [
    "**2.1/ Handle outliers**"
   ]
  },
  {
   "cell_type": "code",
   "execution_count": 35,
   "metadata": {},
   "outputs": [
    {
     "data": {
      "text/html": [
       "<div>\n",
       "<style scoped>\n",
       "    .dataframe tbody tr th:only-of-type {\n",
       "        vertical-align: middle;\n",
       "    }\n",
       "\n",
       "    .dataframe tbody tr th {\n",
       "        vertical-align: top;\n",
       "    }\n",
       "\n",
       "    .dataframe thead th {\n",
       "        text-align: right;\n",
       "    }\n",
       "</style>\n",
       "<table border=\"1\" class=\"dataframe\">\n",
       "  <thead>\n",
       "    <tr style=\"text-align: right;\">\n",
       "      <th></th>\n",
       "      <th>MinTemp</th>\n",
       "      <th>MaxTemp</th>\n",
       "      <th>Rainfall</th>\n",
       "      <th>WindGustSpeed</th>\n",
       "      <th>WindSpeed9am</th>\n",
       "      <th>WindSpeed3pm</th>\n",
       "      <th>Humidity9am</th>\n",
       "      <th>Humidity3pm</th>\n",
       "      <th>Pressure9am</th>\n",
       "      <th>Pressure3pm</th>\n",
       "      <th>Temp9am</th>\n",
       "      <th>Temp3pm</th>\n",
       "      <th>RainToday</th>\n",
       "    </tr>\n",
       "  </thead>\n",
       "  <tbody>\n",
       "    <tr>\n",
       "      <th>count</th>\n",
       "      <td>116368.000000</td>\n",
       "      <td>116368.000000</td>\n",
       "      <td>116368.000000</td>\n",
       "      <td>116368.000000</td>\n",
       "      <td>116368.000000</td>\n",
       "      <td>116368.000000</td>\n",
       "      <td>116368.000000</td>\n",
       "      <td>116368.000000</td>\n",
       "      <td>116368.000000</td>\n",
       "      <td>116368.000000</td>\n",
       "      <td>116368.000000</td>\n",
       "      <td>116368.000000</td>\n",
       "      <td>116368.000000</td>\n",
       "    </tr>\n",
       "    <tr>\n",
       "      <th>mean</th>\n",
       "      <td>12.190189</td>\n",
       "      <td>23.197853</td>\n",
       "      <td>2.321101</td>\n",
       "      <td>39.982091</td>\n",
       "      <td>14.033712</td>\n",
       "      <td>18.691384</td>\n",
       "      <td>68.950691</td>\n",
       "      <td>51.605828</td>\n",
       "      <td>1017.577549</td>\n",
       "      <td>1015.224212</td>\n",
       "      <td>16.970942</td>\n",
       "      <td>21.654733</td>\n",
       "      <td>0.977511</td>\n",
       "    </tr>\n",
       "    <tr>\n",
       "      <th>std</th>\n",
       "      <td>6.366893</td>\n",
       "      <td>7.086076</td>\n",
       "      <td>8.454648</td>\n",
       "      <td>13.127953</td>\n",
       "      <td>8.860807</td>\n",
       "      <td>8.720419</td>\n",
       "      <td>18.811437</td>\n",
       "      <td>20.439999</td>\n",
       "      <td>6.731094</td>\n",
       "      <td>6.661936</td>\n",
       "      <td>6.450466</td>\n",
       "      <td>6.848511</td>\n",
       "      <td>0.148268</td>\n",
       "    </tr>\n",
       "    <tr>\n",
       "      <th>min</th>\n",
       "      <td>-8.500000</td>\n",
       "      <td>-4.800000</td>\n",
       "      <td>0.000000</td>\n",
       "      <td>6.000000</td>\n",
       "      <td>0.000000</td>\n",
       "      <td>0.000000</td>\n",
       "      <td>0.000000</td>\n",
       "      <td>0.000000</td>\n",
       "      <td>980.500000</td>\n",
       "      <td>977.100000</td>\n",
       "      <td>-7.200000</td>\n",
       "      <td>-5.400000</td>\n",
       "      <td>0.000000</td>\n",
       "    </tr>\n",
       "    <tr>\n",
       "      <th>25%</th>\n",
       "      <td>7.700000</td>\n",
       "      <td>18.000000</td>\n",
       "      <td>0.000000</td>\n",
       "      <td>31.000000</td>\n",
       "      <td>7.000000</td>\n",
       "      <td>13.000000</td>\n",
       "      <td>57.000000</td>\n",
       "      <td>37.000000</td>\n",
       "      <td>1013.500000</td>\n",
       "      <td>1011.100000</td>\n",
       "      <td>12.300000</td>\n",
       "      <td>16.700000</td>\n",
       "      <td>1.000000</td>\n",
       "    </tr>\n",
       "    <tr>\n",
       "      <th>50%</th>\n",
       "      <td>12.000000</td>\n",
       "      <td>22.500000</td>\n",
       "      <td>0.000000</td>\n",
       "      <td>39.000000</td>\n",
       "      <td>13.000000</td>\n",
       "      <td>19.000000</td>\n",
       "      <td>70.000000</td>\n",
       "      <td>52.000000</td>\n",
       "      <td>1017.000000</td>\n",
       "      <td>1015.000000</td>\n",
       "      <td>16.600000</td>\n",
       "      <td>21.000000</td>\n",
       "      <td>1.000000</td>\n",
       "    </tr>\n",
       "    <tr>\n",
       "      <th>75%</th>\n",
       "      <td>16.800000</td>\n",
       "      <td>28.200000</td>\n",
       "      <td>0.600000</td>\n",
       "      <td>46.000000</td>\n",
       "      <td>19.000000</td>\n",
       "      <td>24.000000</td>\n",
       "      <td>83.000000</td>\n",
       "      <td>65.000000</td>\n",
       "      <td>1021.800000</td>\n",
       "      <td>1019.400000</td>\n",
       "      <td>21.500000</td>\n",
       "      <td>26.200000</td>\n",
       "      <td>1.000000</td>\n",
       "    </tr>\n",
       "    <tr>\n",
       "      <th>max</th>\n",
       "      <td>31.900000</td>\n",
       "      <td>48.100000</td>\n",
       "      <td>367.600000</td>\n",
       "      <td>135.000000</td>\n",
       "      <td>130.000000</td>\n",
       "      <td>83.000000</td>\n",
       "      <td>100.000000</td>\n",
       "      <td>100.000000</td>\n",
       "      <td>1041.000000</td>\n",
       "      <td>1039.600000</td>\n",
       "      <td>40.200000</td>\n",
       "      <td>46.700000</td>\n",
       "      <td>1.000000</td>\n",
       "    </tr>\n",
       "  </tbody>\n",
       "</table>\n",
       "</div>"
      ],
      "text/plain": [
       "             MinTemp        MaxTemp       Rainfall  WindGustSpeed  \\\n",
       "count  116368.000000  116368.000000  116368.000000  116368.000000   \n",
       "mean       12.190189      23.197853       2.321101      39.982091   \n",
       "std         6.366893       7.086076       8.454648      13.127953   \n",
       "min        -8.500000      -4.800000       0.000000       6.000000   \n",
       "25%         7.700000      18.000000       0.000000      31.000000   \n",
       "50%        12.000000      22.500000       0.000000      39.000000   \n",
       "75%        16.800000      28.200000       0.600000      46.000000   \n",
       "max        31.900000      48.100000     367.600000     135.000000   \n",
       "\n",
       "        WindSpeed9am   WindSpeed3pm    Humidity9am    Humidity3pm  \\\n",
       "count  116368.000000  116368.000000  116368.000000  116368.000000   \n",
       "mean       14.033712      18.691384      68.950691      51.605828   \n",
       "std         8.860807       8.720419      18.811437      20.439999   \n",
       "min         0.000000       0.000000       0.000000       0.000000   \n",
       "25%         7.000000      13.000000      57.000000      37.000000   \n",
       "50%        13.000000      19.000000      70.000000      52.000000   \n",
       "75%        19.000000      24.000000      83.000000      65.000000   \n",
       "max       130.000000      83.000000     100.000000     100.000000   \n",
       "\n",
       "         Pressure9am    Pressure3pm        Temp9am        Temp3pm  \\\n",
       "count  116368.000000  116368.000000  116368.000000  116368.000000   \n",
       "mean     1017.577549    1015.224212      16.970942      21.654733   \n",
       "std         6.731094       6.661936       6.450466       6.848511   \n",
       "min       980.500000     977.100000      -7.200000      -5.400000   \n",
       "25%      1013.500000    1011.100000      12.300000      16.700000   \n",
       "50%      1017.000000    1015.000000      16.600000      21.000000   \n",
       "75%      1021.800000    1019.400000      21.500000      26.200000   \n",
       "max      1041.000000    1039.600000      40.200000      46.700000   \n",
       "\n",
       "           RainToday  \n",
       "count  116368.000000  \n",
       "mean        0.977511  \n",
       "std         0.148268  \n",
       "min         0.000000  \n",
       "25%         1.000000  \n",
       "50%         1.000000  \n",
       "75%         1.000000  \n",
       "max         1.000000  "
      ]
     },
     "execution_count": 35,
     "metadata": {},
     "output_type": "execute_result"
    }
   ],
   "source": [
    "X_train.describe()"
   ]
  },
  {
   "cell_type": "code",
   "execution_count": 36,
   "metadata": {},
   "outputs": [
    {
     "data": {
      "text/html": [
       "<div>\n",
       "<style scoped>\n",
       "    .dataframe tbody tr th:only-of-type {\n",
       "        vertical-align: middle;\n",
       "    }\n",
       "\n",
       "    .dataframe tbody tr th {\n",
       "        vertical-align: top;\n",
       "    }\n",
       "\n",
       "    .dataframe thead th {\n",
       "        text-align: right;\n",
       "    }\n",
       "</style>\n",
       "<table border=\"1\" class=\"dataframe\">\n",
       "  <thead>\n",
       "    <tr style=\"text-align: right;\">\n",
       "      <th></th>\n",
       "      <th>MinTemp</th>\n",
       "      <th>MaxTemp</th>\n",
       "      <th>Rainfall</th>\n",
       "      <th>WindGustSpeed</th>\n",
       "      <th>WindSpeed9am</th>\n",
       "      <th>WindSpeed3pm</th>\n",
       "      <th>Humidity9am</th>\n",
       "      <th>Humidity3pm</th>\n",
       "      <th>Pressure9am</th>\n",
       "      <th>Pressure3pm</th>\n",
       "      <th>Temp9am</th>\n",
       "      <th>Temp3pm</th>\n",
       "      <th>RainToday</th>\n",
       "    </tr>\n",
       "  </thead>\n",
       "  <tbody>\n",
       "    <tr>\n",
       "      <th>count</th>\n",
       "      <td>29092.000000</td>\n",
       "      <td>29092.000000</td>\n",
       "      <td>29092.000000</td>\n",
       "      <td>29092.000000</td>\n",
       "      <td>29092.000000</td>\n",
       "      <td>29092.000000</td>\n",
       "      <td>29092.000000</td>\n",
       "      <td>29092.000000</td>\n",
       "      <td>29092.000000</td>\n",
       "      <td>29092.000000</td>\n",
       "      <td>29092.000000</td>\n",
       "      <td>29092.000000</td>\n",
       "      <td>29092.000000</td>\n",
       "    </tr>\n",
       "    <tr>\n",
       "      <th>mean</th>\n",
       "      <td>12.199512</td>\n",
       "      <td>23.262388</td>\n",
       "      <td>2.255544</td>\n",
       "      <td>39.882579</td>\n",
       "      <td>14.018906</td>\n",
       "      <td>18.583253</td>\n",
       "      <td>68.703492</td>\n",
       "      <td>51.343668</td>\n",
       "      <td>1017.602939</td>\n",
       "      <td>1015.250412</td>\n",
       "      <td>17.009219</td>\n",
       "      <td>21.713241</td>\n",
       "      <td>0.977863</td>\n",
       "    </tr>\n",
       "    <tr>\n",
       "      <th>std</th>\n",
       "      <td>6.361430</td>\n",
       "      <td>7.100712</td>\n",
       "      <td>8.125016</td>\n",
       "      <td>13.092727</td>\n",
       "      <td>8.865895</td>\n",
       "      <td>8.701497</td>\n",
       "      <td>19.029080</td>\n",
       "      <td>20.595273</td>\n",
       "      <td>6.732606</td>\n",
       "      <td>6.674460</td>\n",
       "      <td>6.448824</td>\n",
       "      <td>6.860275</td>\n",
       "      <td>0.147130</td>\n",
       "    </tr>\n",
       "    <tr>\n",
       "      <th>min</th>\n",
       "      <td>-7.000000</td>\n",
       "      <td>-3.200000</td>\n",
       "      <td>0.000000</td>\n",
       "      <td>7.000000</td>\n",
       "      <td>0.000000</td>\n",
       "      <td>0.000000</td>\n",
       "      <td>1.000000</td>\n",
       "      <td>1.000000</td>\n",
       "      <td>983.700000</td>\n",
       "      <td>982.600000</td>\n",
       "      <td>-5.600000</td>\n",
       "      <td>-3.900000</td>\n",
       "      <td>0.000000</td>\n",
       "    </tr>\n",
       "    <tr>\n",
       "      <th>25%</th>\n",
       "      <td>7.600000</td>\n",
       "      <td>18.000000</td>\n",
       "      <td>0.000000</td>\n",
       "      <td>31.000000</td>\n",
       "      <td>7.000000</td>\n",
       "      <td>13.000000</td>\n",
       "      <td>57.000000</td>\n",
       "      <td>37.000000</td>\n",
       "      <td>1013.600000</td>\n",
       "      <td>1011.000000</td>\n",
       "      <td>12.400000</td>\n",
       "      <td>16.700000</td>\n",
       "      <td>1.000000</td>\n",
       "    </tr>\n",
       "    <tr>\n",
       "      <th>50%</th>\n",
       "      <td>12.000000</td>\n",
       "      <td>22.600000</td>\n",
       "      <td>0.000000</td>\n",
       "      <td>39.000000</td>\n",
       "      <td>13.000000</td>\n",
       "      <td>19.000000</td>\n",
       "      <td>70.000000</td>\n",
       "      <td>52.000000</td>\n",
       "      <td>1017.000000</td>\n",
       "      <td>1015.000000</td>\n",
       "      <td>16.600000</td>\n",
       "      <td>21.000000</td>\n",
       "      <td>1.000000</td>\n",
       "    </tr>\n",
       "    <tr>\n",
       "      <th>75%</th>\n",
       "      <td>16.800000</td>\n",
       "      <td>28.200000</td>\n",
       "      <td>0.600000</td>\n",
       "      <td>46.000000</td>\n",
       "      <td>19.000000</td>\n",
       "      <td>24.000000</td>\n",
       "      <td>83.000000</td>\n",
       "      <td>65.000000</td>\n",
       "      <td>1021.800000</td>\n",
       "      <td>1019.400000</td>\n",
       "      <td>21.500000</td>\n",
       "      <td>26.300000</td>\n",
       "      <td>1.000000</td>\n",
       "    </tr>\n",
       "    <tr>\n",
       "      <th>max</th>\n",
       "      <td>33.900000</td>\n",
       "      <td>46.700000</td>\n",
       "      <td>371.000000</td>\n",
       "      <td>126.000000</td>\n",
       "      <td>87.000000</td>\n",
       "      <td>87.000000</td>\n",
       "      <td>100.000000</td>\n",
       "      <td>100.000000</td>\n",
       "      <td>1040.400000</td>\n",
       "      <td>1038.500000</td>\n",
       "      <td>39.100000</td>\n",
       "      <td>46.100000</td>\n",
       "      <td>1.000000</td>\n",
       "    </tr>\n",
       "  </tbody>\n",
       "</table>\n",
       "</div>"
      ],
      "text/plain": [
       "            MinTemp       MaxTemp      Rainfall  WindGustSpeed  WindSpeed9am  \\\n",
       "count  29092.000000  29092.000000  29092.000000   29092.000000  29092.000000   \n",
       "mean      12.199512     23.262388      2.255544      39.882579     14.018906   \n",
       "std        6.361430      7.100712      8.125016      13.092727      8.865895   \n",
       "min       -7.000000     -3.200000      0.000000       7.000000      0.000000   \n",
       "25%        7.600000     18.000000      0.000000      31.000000      7.000000   \n",
       "50%       12.000000     22.600000      0.000000      39.000000     13.000000   \n",
       "75%       16.800000     28.200000      0.600000      46.000000     19.000000   \n",
       "max       33.900000     46.700000    371.000000     126.000000     87.000000   \n",
       "\n",
       "       WindSpeed3pm   Humidity9am   Humidity3pm   Pressure9am   Pressure3pm  \\\n",
       "count  29092.000000  29092.000000  29092.000000  29092.000000  29092.000000   \n",
       "mean      18.583253     68.703492     51.343668   1017.602939   1015.250412   \n",
       "std        8.701497     19.029080     20.595273      6.732606      6.674460   \n",
       "min        0.000000      1.000000      1.000000    983.700000    982.600000   \n",
       "25%       13.000000     57.000000     37.000000   1013.600000   1011.000000   \n",
       "50%       19.000000     70.000000     52.000000   1017.000000   1015.000000   \n",
       "75%       24.000000     83.000000     65.000000   1021.800000   1019.400000   \n",
       "max       87.000000    100.000000    100.000000   1040.400000   1038.500000   \n",
       "\n",
       "            Temp9am       Temp3pm     RainToday  \n",
       "count  29092.000000  29092.000000  29092.000000  \n",
       "mean      17.009219     21.713241      0.977863  \n",
       "std        6.448824      6.860275      0.147130  \n",
       "min       -5.600000     -3.900000      0.000000  \n",
       "25%       12.400000     16.700000      1.000000  \n",
       "50%       16.600000     21.000000      1.000000  \n",
       "75%       21.500000     26.300000      1.000000  \n",
       "max       39.100000     46.100000      1.000000  "
      ]
     },
     "execution_count": 36,
     "metadata": {},
     "output_type": "execute_result"
    }
   ],
   "source": [
    "X_test.describe()"
   ]
  },
  {
   "cell_type": "code",
   "execution_count": 37,
   "metadata": {},
   "outputs": [],
   "source": [
    "# Handle outliers \n",
    "def max_value(df2, variable, top):\n",
    "    return np.where(df2[variable]>top, top, df2[variable])\n",
    "\n",
    "for df2 in [X_train, X_test]:\n",
    "    df2['Rainfall'] = max_value(df2, 'Rainfall', 3.2)\n",
    "#     df2['Evaporation'] = max_value(df2, 'Evaporation', 21.8)\n",
    "    df2['WindSpeed9am'] = max_value(df2, 'WindSpeed9am', 55)\n",
    "    df2['WindSpeed3pm'] = max_value(df2, 'WindSpeed3pm', 57)"
   ]
  },
  {
   "cell_type": "code",
   "execution_count": 38,
   "metadata": {},
   "outputs": [
    {
     "data": {
      "text/plain": [
       "(3.2, 3.2)"
      ]
     },
     "execution_count": 38,
     "metadata": {},
     "output_type": "execute_result"
    }
   ],
   "source": [
    "# check again\n",
    "X_train.Rainfall.max(), X_test.Rainfall.max()"
   ]
  },
  {
   "cell_type": "code",
   "execution_count": 39,
   "metadata": {},
   "outputs": [],
   "source": [
    "# X_train.Evaporation.max(), X_test.Evaporation.max()"
   ]
  },
  {
   "cell_type": "code",
   "execution_count": 40,
   "metadata": {},
   "outputs": [
    {
     "data": {
      "text/plain": [
       "(55.0, 55.0)"
      ]
     },
     "execution_count": 40,
     "metadata": {},
     "output_type": "execute_result"
    }
   ],
   "source": [
    "X_train.WindSpeed9am.max(), X_test.WindSpeed9am.max()"
   ]
  },
  {
   "cell_type": "code",
   "execution_count": 41,
   "metadata": {},
   "outputs": [
    {
     "data": {
      "text/plain": [
       "(57.0, 57.0)"
      ]
     },
     "execution_count": 41,
     "metadata": {},
     "output_type": "execute_result"
    }
   ],
   "source": [
    "X_train.WindSpeed3pm.max(), X_test.WindSpeed3pm.max()"
   ]
  },
  {
   "cell_type": "markdown",
   "metadata": {},
   "source": [
    "<b> 2.2/ Normalise the dataset"
   ]
  },
  {
   "cell_type": "code",
   "execution_count": 42,
   "metadata": {},
   "outputs": [
    {
     "data": {
      "text/plain": [
       "Rainfall         1.475866\n",
       "WindGustSpeed    0.924508\n",
       "WindSpeed9am     0.737125\n",
       "WindSpeed3pm     0.601316\n",
       "Temp3pm          0.245442\n",
       "MaxTemp          0.224324\n",
       "Temp9am          0.092199\n",
       "Humidity3pm      0.033016\n",
       "MinTemp          0.018354\n",
       "Pressure3pm     -0.043755\n",
       "Pressure9am     -0.077214\n",
       "Humidity9am     -0.489400\n",
       "RainToday       -6.441210\n",
       "dtype: float64"
      ]
     },
     "execution_count": 42,
     "metadata": {},
     "output_type": "execute_result"
    }
   ],
   "source": [
    "# for train set\n",
    "from scipy.stats import skew \n",
    "numeric_feats1 = X_train.dtypes[X_train.dtypes != \"object\"].index\n",
    "skewed_feats1 = X_train[numeric_feats1].apply(lambda x: skew(x)).sort_values(ascending=False)\n",
    "skewed_feats1"
   ]
  },
  {
   "cell_type": "code",
   "execution_count": 43,
   "metadata": {},
   "outputs": [
    {
     "data": {
      "text/plain": [
       "Rainfall         1.493627\n",
       "WindGustSpeed    0.919786\n",
       "WindSpeed9am     0.751608\n",
       "WindSpeed3pm     0.608432\n",
       "Temp3pm          0.259519\n",
       "MaxTemp          0.233351\n",
       "Temp9am          0.104210\n",
       "MinTemp          0.037780\n",
       "Humidity3pm      0.028754\n",
       "Pressure3pm     -0.006547\n",
       "Pressure9am     -0.045422\n",
       "Humidity9am     -0.499605\n",
       "RainToday       -6.495887\n",
       "dtype: float64"
      ]
     },
     "execution_count": 43,
     "metadata": {},
     "output_type": "execute_result"
    }
   ],
   "source": [
    "# For test set\n",
    "numeric_feats2 = X_test.dtypes[X_train.dtypes != \"object\"].index\n",
    "skewed_feats2 = X_test[numeric_feats2].apply(lambda x: skew(x)).sort_values(ascending=False)\n",
    "skewed_feats2"
   ]
  },
  {
   "cell_type": "code",
   "execution_count": 44,
   "metadata": {},
   "outputs": [],
   "source": [
    "def fix_skewness(df):\n",
    "    \"\"\"\n",
    "    This function takes in a dataframe and return fixed skewed dataframe\n",
    "    \"\"\"\n",
    "    ## Import necessary modules \n",
    "    from scipy.stats import skew\n",
    "    from scipy.special import boxcox1p\n",
    "    from scipy.stats import boxcox_normmax\n",
    "    \n",
    "    # Gather all the data that are not of \"object\" type. \n",
    "    numeric_feats = df.dtypes[df.dtypes != \"object\"].index\n",
    "\n",
    "    # Check the skew of all numerical features\n",
    "    skewed_feats = df[numeric_feats].apply(lambda x: skew(x)).sort_values(ascending=False)\n",
    "    high_skew = skewed_feats[abs(skewed_feats) > 0.5]\n",
    "    skewed_features = high_skew.index\n",
    "\n",
    "    for feat in skewed_features:\n",
    "        df[feat] = boxcox1p(df[feat], boxcox_normmax(df[feat] + 1))\n",
    "\n",
    "fix_skewness(X_train)\n",
    "fix_skewness(X_test)"
   ]
  },
  {
   "cell_type": "markdown",
   "metadata": {},
   "source": [
    "**2.3/ Label Encoding**"
   ]
  },
  {
   "cell_type": "code",
   "execution_count": 45,
   "metadata": {},
   "outputs": [],
   "source": [
    "# Label Endcoding for categorical data\n",
    "from sklearn.linear_model import LinearRegression\n",
    "from sklearn import preprocessing\n",
    "label_encoder = preprocessing.LabelEncoder()"
   ]
  },
  {
   "cell_type": "code",
   "execution_count": 46,
   "metadata": {},
   "outputs": [],
   "source": [
    "for i in categorical:\n",
    "    X_train[i] = label_encoder.fit_transform(X_train[i])\n",
    "    X_test[i] = label_encoder.transform(X_test[i])"
   ]
  },
  {
   "cell_type": "code",
   "execution_count": 47,
   "metadata": {},
   "outputs": [
    {
     "data": {
      "text/html": [
       "<div>\n",
       "<style scoped>\n",
       "    .dataframe tbody tr th:only-of-type {\n",
       "        vertical-align: middle;\n",
       "    }\n",
       "\n",
       "    .dataframe tbody tr th {\n",
       "        vertical-align: top;\n",
       "    }\n",
       "\n",
       "    .dataframe thead th {\n",
       "        text-align: right;\n",
       "    }\n",
       "</style>\n",
       "<table border=\"1\" class=\"dataframe\">\n",
       "  <thead>\n",
       "    <tr style=\"text-align: right;\">\n",
       "      <th></th>\n",
       "      <th>MinTemp</th>\n",
       "      <th>MaxTemp</th>\n",
       "      <th>Rainfall</th>\n",
       "      <th>WindGustDir</th>\n",
       "      <th>WindGustSpeed</th>\n",
       "      <th>WindDir9am</th>\n",
       "      <th>WindDir3pm</th>\n",
       "      <th>WindSpeed9am</th>\n",
       "      <th>WindSpeed3pm</th>\n",
       "      <th>Humidity9am</th>\n",
       "      <th>Humidity3pm</th>\n",
       "      <th>Pressure9am</th>\n",
       "      <th>Pressure3pm</th>\n",
       "      <th>Temp9am</th>\n",
       "      <th>Temp3pm</th>\n",
       "      <th>RainToday</th>\n",
       "    </tr>\n",
       "  </thead>\n",
       "  <tbody>\n",
       "    <tr>\n",
       "      <th>0</th>\n",
       "      <td>18.8</td>\n",
       "      <td>23.7</td>\n",
       "      <td>0.148653</td>\n",
       "      <td>2</td>\n",
       "      <td>6.644082</td>\n",
       "      <td>2</td>\n",
       "      <td>2</td>\n",
       "      <td>13.049722</td>\n",
       "      <td>11.494663</td>\n",
       "      <td>74.0</td>\n",
       "      <td>73.0</td>\n",
       "      <td>1016.6</td>\n",
       "      <td>1013.9</td>\n",
       "      <td>21.4</td>\n",
       "      <td>22.2</td>\n",
       "      <td>41.768499</td>\n",
       "    </tr>\n",
       "    <tr>\n",
       "      <th>1</th>\n",
       "      <td>9.3</td>\n",
       "      <td>24.0</td>\n",
       "      <td>0.148653</td>\n",
       "      <td>4</td>\n",
       "      <td>6.442186</td>\n",
       "      <td>6</td>\n",
       "      <td>5</td>\n",
       "      <td>6.994997</td>\n",
       "      <td>10.336463</td>\n",
       "      <td>74.0</td>\n",
       "      <td>55.0</td>\n",
       "      <td>1018.3</td>\n",
       "      <td>1014.6</td>\n",
       "      <td>14.3</td>\n",
       "      <td>23.2</td>\n",
       "      <td>41.768499</td>\n",
       "    </tr>\n",
       "    <tr>\n",
       "      <th>2</th>\n",
       "      <td>10.9</td>\n",
       "      <td>22.2</td>\n",
       "      <td>0.374348</td>\n",
       "      <td>12</td>\n",
       "      <td>5.027024</td>\n",
       "      <td>13</td>\n",
       "      <td>12</td>\n",
       "      <td>0.000000</td>\n",
       "      <td>5.950393</td>\n",
       "      <td>85.0</td>\n",
       "      <td>47.0</td>\n",
       "      <td>1017.6</td>\n",
       "      <td>1014.9</td>\n",
       "      <td>16.6</td>\n",
       "      <td>21.5</td>\n",
       "      <td>41.768499</td>\n",
       "    </tr>\n",
       "    <tr>\n",
       "      <th>3</th>\n",
       "      <td>19.3</td>\n",
       "      <td>29.9</td>\n",
       "      <td>0.000000</td>\n",
       "      <td>2</td>\n",
       "      <td>6.171391</td>\n",
       "      <td>2</td>\n",
       "      <td>0</td>\n",
       "      <td>11.527572</td>\n",
       "      <td>8.124214</td>\n",
       "      <td>44.0</td>\n",
       "      <td>37.0</td>\n",
       "      <td>1015.9</td>\n",
       "      <td>1012.1</td>\n",
       "      <td>23.2</td>\n",
       "      <td>29.1</td>\n",
       "      <td>41.768499</td>\n",
       "    </tr>\n",
       "    <tr>\n",
       "      <th>4</th>\n",
       "      <td>15.7</td>\n",
       "      <td>17.6</td>\n",
       "      <td>0.415403</td>\n",
       "      <td>0</td>\n",
       "      <td>4.488439</td>\n",
       "      <td>2</td>\n",
       "      <td>0</td>\n",
       "      <td>6.182927</td>\n",
       "      <td>6.712795</td>\n",
       "      <td>100.0</td>\n",
       "      <td>100.0</td>\n",
       "      <td>1015.2</td>\n",
       "      <td>1010.5</td>\n",
       "      <td>16.5</td>\n",
       "      <td>17.3</td>\n",
       "      <td>41.768499</td>\n",
       "    </tr>\n",
       "  </tbody>\n",
       "</table>\n",
       "</div>"
      ],
      "text/plain": [
       "   MinTemp  MaxTemp  Rainfall  WindGustDir  WindGustSpeed  WindDir9am  \\\n",
       "0     18.8     23.7  0.148653            2       6.644082           2   \n",
       "1      9.3     24.0  0.148653            4       6.442186           6   \n",
       "2     10.9     22.2  0.374348           12       5.027024          13   \n",
       "3     19.3     29.9  0.000000            2       6.171391           2   \n",
       "4     15.7     17.6  0.415403            0       4.488439           2   \n",
       "\n",
       "   WindDir3pm  WindSpeed9am  WindSpeed3pm  Humidity9am  Humidity3pm  \\\n",
       "0           2     13.049722     11.494663         74.0         73.0   \n",
       "1           5      6.994997     10.336463         74.0         55.0   \n",
       "2          12      0.000000      5.950393         85.0         47.0   \n",
       "3           0     11.527572      8.124214         44.0         37.0   \n",
       "4           0      6.182927      6.712795        100.0        100.0   \n",
       "\n",
       "   Pressure9am  Pressure3pm  Temp9am  Temp3pm  RainToday  \n",
       "0       1016.6       1013.9     21.4     22.2  41.768499  \n",
       "1       1018.3       1014.6     14.3     23.2  41.768499  \n",
       "2       1017.6       1014.9     16.6     21.5  41.768499  \n",
       "3       1015.9       1012.1     23.2     29.1  41.768499  \n",
       "4       1015.2       1010.5     16.5     17.3  41.768499  "
      ]
     },
     "execution_count": 47,
     "metadata": {},
     "output_type": "execute_result"
    }
   ],
   "source": [
    "X_train.head()"
   ]
  },
  {
   "cell_type": "code",
   "execution_count": 48,
   "metadata": {},
   "outputs": [
    {
     "data": {
      "text/html": [
       "<div>\n",
       "<style scoped>\n",
       "    .dataframe tbody tr th:only-of-type {\n",
       "        vertical-align: middle;\n",
       "    }\n",
       "\n",
       "    .dataframe tbody tr th {\n",
       "        vertical-align: top;\n",
       "    }\n",
       "\n",
       "    .dataframe thead th {\n",
       "        text-align: right;\n",
       "    }\n",
       "</style>\n",
       "<table border=\"1\" class=\"dataframe\">\n",
       "  <thead>\n",
       "    <tr style=\"text-align: right;\">\n",
       "      <th></th>\n",
       "      <th>MinTemp</th>\n",
       "      <th>MaxTemp</th>\n",
       "      <th>Rainfall</th>\n",
       "      <th>WindGustDir</th>\n",
       "      <th>WindGustSpeed</th>\n",
       "      <th>WindDir9am</th>\n",
       "      <th>WindDir3pm</th>\n",
       "      <th>WindSpeed9am</th>\n",
       "      <th>WindSpeed3pm</th>\n",
       "      <th>Humidity9am</th>\n",
       "      <th>Humidity3pm</th>\n",
       "      <th>Pressure9am</th>\n",
       "      <th>Pressure3pm</th>\n",
       "      <th>Temp9am</th>\n",
       "      <th>Temp3pm</th>\n",
       "      <th>RainToday</th>\n",
       "    </tr>\n",
       "  </thead>\n",
       "  <tbody>\n",
       "    <tr>\n",
       "      <th>0</th>\n",
       "      <td>21.9</td>\n",
       "      <td>39.4</td>\n",
       "      <td>0.373699</td>\n",
       "      <td>6</td>\n",
       "      <td>6.821949</td>\n",
       "      <td>4</td>\n",
       "      <td>3</td>\n",
       "      <td>9.494236</td>\n",
       "      <td>12.890558</td>\n",
       "      <td>50.0</td>\n",
       "      <td>26.0</td>\n",
       "      <td>1008.5</td>\n",
       "      <td>1004.1</td>\n",
       "      <td>29.8</td>\n",
       "      <td>35.4</td>\n",
       "      <td>12.73392</td>\n",
       "    </tr>\n",
       "    <tr>\n",
       "      <th>1</th>\n",
       "      <td>20.5</td>\n",
       "      <td>37.5</td>\n",
       "      <td>0.000000</td>\n",
       "      <td>15</td>\n",
       "      <td>6.910960</td>\n",
       "      <td>1</td>\n",
       "      <td>3</td>\n",
       "      <td>8.449141</td>\n",
       "      <td>9.123575</td>\n",
       "      <td>47.0</td>\n",
       "      <td>22.0</td>\n",
       "      <td>1012.9</td>\n",
       "      <td>1006.5</td>\n",
       "      <td>27.3</td>\n",
       "      <td>35.7</td>\n",
       "      <td>12.73392</td>\n",
       "    </tr>\n",
       "    <tr>\n",
       "      <th>2</th>\n",
       "      <td>5.1</td>\n",
       "      <td>17.2</td>\n",
       "      <td>0.147568</td>\n",
       "      <td>14</td>\n",
       "      <td>6.490676</td>\n",
       "      <td>15</td>\n",
       "      <td>14</td>\n",
       "      <td>12.049843</td>\n",
       "      <td>9.750754</td>\n",
       "      <td>68.0</td>\n",
       "      <td>51.0</td>\n",
       "      <td>1017.0</td>\n",
       "      <td>1015.0</td>\n",
       "      <td>10.1</td>\n",
       "      <td>16.1</td>\n",
       "      <td>12.73392</td>\n",
       "    </tr>\n",
       "    <tr>\n",
       "      <th>3</th>\n",
       "      <td>11.9</td>\n",
       "      <td>16.8</td>\n",
       "      <td>0.337048</td>\n",
       "      <td>12</td>\n",
       "      <td>5.150243</td>\n",
       "      <td>15</td>\n",
       "      <td>12</td>\n",
       "      <td>6.148433</td>\n",
       "      <td>6.723693</td>\n",
       "      <td>80.0</td>\n",
       "      <td>79.0</td>\n",
       "      <td>1018.5</td>\n",
       "      <td>1017.7</td>\n",
       "      <td>14.3</td>\n",
       "      <td>15.2</td>\n",
       "      <td>12.73392</td>\n",
       "    </tr>\n",
       "    <tr>\n",
       "      <th>4</th>\n",
       "      <td>7.5</td>\n",
       "      <td>21.3</td>\n",
       "      <td>0.000000</td>\n",
       "      <td>4</td>\n",
       "      <td>3.919116</td>\n",
       "      <td>12</td>\n",
       "      <td>5</td>\n",
       "      <td>1.598532</td>\n",
       "      <td>4.267595</td>\n",
       "      <td>88.0</td>\n",
       "      <td>52.0</td>\n",
       "      <td>1017.0</td>\n",
       "      <td>1015.0</td>\n",
       "      <td>13.7</td>\n",
       "      <td>21.1</td>\n",
       "      <td>12.73392</td>\n",
       "    </tr>\n",
       "  </tbody>\n",
       "</table>\n",
       "</div>"
      ],
      "text/plain": [
       "   MinTemp  MaxTemp  Rainfall  WindGustDir  WindGustSpeed  WindDir9am  \\\n",
       "0     21.9     39.4  0.373699            6       6.821949           4   \n",
       "1     20.5     37.5  0.000000           15       6.910960           1   \n",
       "2      5.1     17.2  0.147568           14       6.490676          15   \n",
       "3     11.9     16.8  0.337048           12       5.150243          15   \n",
       "4      7.5     21.3  0.000000            4       3.919116          12   \n",
       "\n",
       "   WindDir3pm  WindSpeed9am  WindSpeed3pm  Humidity9am  Humidity3pm  \\\n",
       "0           3      9.494236     12.890558         50.0         26.0   \n",
       "1           3      8.449141      9.123575         47.0         22.0   \n",
       "2          14     12.049843      9.750754         68.0         51.0   \n",
       "3          12      6.148433      6.723693         80.0         79.0   \n",
       "4           5      1.598532      4.267595         88.0         52.0   \n",
       "\n",
       "   Pressure9am  Pressure3pm  Temp9am  Temp3pm  RainToday  \n",
       "0       1008.5       1004.1     29.8     35.4   12.73392  \n",
       "1       1012.9       1006.5     27.3     35.7   12.73392  \n",
       "2       1017.0       1015.0     10.1     16.1   12.73392  \n",
       "3       1018.5       1017.7     14.3     15.2   12.73392  \n",
       "4       1017.0       1015.0     13.7     21.1   12.73392  "
      ]
     },
     "execution_count": 48,
     "metadata": {},
     "output_type": "execute_result"
    }
   ],
   "source": [
    "X_test.head()"
   ]
  },
  {
   "cell_type": "markdown",
   "metadata": {},
   "source": [
    "**2.3/ Feature Scaling** "
   ]
  },
  {
   "cell_type": "markdown",
   "metadata": {},
   "source": [
    "* We need to standardize our data. We will use MinMaxScaler in order to avoid negative values."
   ]
  },
  {
   "cell_type": "code",
   "execution_count": 49,
   "metadata": {},
   "outputs": [],
   "source": [
    "cols = X_train.columns"
   ]
  },
  {
   "cell_type": "code",
   "execution_count": 50,
   "metadata": {},
   "outputs": [],
   "source": [
    "from sklearn.preprocessing import MinMaxScaler\n",
    "scaler = MinMaxScaler()\n",
    "X_train = scaler.fit_transform(X_train)\n",
    "X_test = scaler.transform(X_test)"
   ]
  },
  {
   "cell_type": "code",
   "execution_count": 51,
   "metadata": {},
   "outputs": [],
   "source": [
    "X_train = pd.DataFrame(X_train, columns=[cols])\n",
    "X_test = pd.DataFrame(X_test, columns=[cols])"
   ]
  },
  {
   "cell_type": "markdown",
   "metadata": {},
   "source": [
    "**2.4/ Correlation analysis** "
   ]
  },
  {
   "cell_type": "code",
   "execution_count": 52,
   "metadata": {},
   "outputs": [],
   "source": [
    "# make copy for analysis\n",
    "X_train_copy = X_train.copy()\n",
    "X_test_copy = X_test.copy()"
   ]
  },
  {
   "cell_type": "code",
   "execution_count": 53,
   "metadata": {},
   "outputs": [],
   "source": [
    "#concat train dataset to do more analysis\n",
    "X_train_copy.insert(0,'RainTomorrow', value=y_train)\n",
    "X_test_copy.insert(0,'RainTomorrow', value=y_test)"
   ]
  },
  {
   "cell_type": "code",
   "execution_count": 54,
   "metadata": {},
   "outputs": [
    {
     "data": {
      "text/plain": [
       "<AxesSubplot:xlabel='None', ylabel='None'>"
      ]
     },
     "execution_count": 54,
     "metadata": {},
     "output_type": "execute_result"
    },
    {
     "data": {
      "image/png": "[encoded data removed]",
      "text/plain": [
       "<Figure size 1440x1440 with 2 Axes>"
      ]
     },
     "metadata": {
      "needs_background": "light"
     },
     "output_type": "display_data"
    }
   ],
   "source": [
    "# Correlation Heatmap\n",
    "import numpy as np\n",
    "import matplotlib.pyplot as plt\n",
    "import seaborn as sns\n",
    "corr = X_train_copy.corr()\n",
    "mask = np.triu(np.ones_like(corr, dtype=np.bool))\n",
    "f, ax = plt.subplots(figsize=(20, 20))\n",
    "cmap = sns.diverging_palette(250, 25, as_cmap=True)\n",
    "sns.heatmap(corr, mask=mask, cmap=cmap, vmax=None, center=0,square=True, annot=True, linewidths=.5, cbar_kws={\"shrink\": .9})"
   ]
  },
  {
   "cell_type": "code",
   "execution_count": 55,
   "metadata": {},
   "outputs": [
    {
     "data": {
      "text/plain": [
       "<AxesSubplot:xlabel='None', ylabel='None'>"
      ]
     },
     "execution_count": 55,
     "metadata": {},
     "output_type": "execute_result"
    },
    {
     "data": {
      "image/png": "[encoded data removed]",
      "text/plain": [
       "<Figure size 1440x1440 with 2 Axes>"
      ]
     },
     "metadata": {
      "needs_background": "light"
     },
     "output_type": "display_data"
    }
   ],
   "source": [
    "# Correlation Heatmap\n",
    "import numpy as np\n",
    "import matplotlib.pyplot as plt\n",
    "import seaborn as sns\n",
    "corr = X_test_copy.corr()\n",
    "mask = np.triu(np.ones_like(corr, dtype=np.bool))\n",
    "f, ax = plt.subplots(figsize=(20, 20))\n",
    "cmap = sns.diverging_palette(250, 25, as_cmap=True)\n",
    "sns.heatmap(corr, mask=mask, cmap=cmap, vmax=None, center=0,square=True, annot=True, linewidths=.5, cbar_kws={\"shrink\": .9})"
   ]
  },
  {
   "cell_type": "markdown",
   "metadata": {},
   "source": [
    "In conclusion, The following pairs of features are having high correlation between them:\n",
    "\n",
    "* **MaxTemp** and **MinTemp**\n",
    "* **Pressure9am** and **Pressure3pm**\n",
    "* **Temp9am** and **Temp3pm**\n",
    "* **MaxTemp** and **Temp3pm** \n",
    "\n",
    "But there is no case that the correlation value is equal to a perfect \"1\". As a result, we will not discard any feature."
   ]
  },
  {
   "cell_type": "markdown",
   "metadata": {},
   "source": [
    "**2.5/ Feature Selection** "
   ]
  },
  {
   "cell_type": "code",
   "execution_count": 56,
   "metadata": {},
   "outputs": [
    {
     "name": "stdout",
     "output_type": "stream",
     "text": [
      "MultiIndex([(    'Rainfall',),\n",
      "            ( 'WindGustDir',),\n",
      "            (  'WindDir9am',),\n",
      "            (  'WindDir3pm',),\n",
      "            ('WindSpeed9am',),\n",
      "            ('WindSpeed3pm',),\n",
      "            ( 'Humidity3pm',),\n",
      "            (   'RainToday',)],\n",
      "           )\n"
     ]
    }
   ],
   "source": [
    "# Choose the top feature for train set\n",
    "# Feature Importance using Filter Method (Chi-Square)\n",
    "from sklearn.feature_selection import SelectKBest, chi2\n",
    "X = X_train\n",
    "y = y_train\n",
    "selector = SelectKBest(chi2, k=8)\n",
    "selector.fit(X, y)\n",
    "X_new = selector.transform(X)\n",
    "print(X.columns[selector.get_support(indices=True)])"
   ]
  },
  {
   "cell_type": "code",
   "execution_count": 57,
   "metadata": {},
   "outputs": [
    {
     "name": "stdout",
     "output_type": "stream",
     "text": [
      "MultiIndex([(    'Rainfall',),\n",
      "            ( 'WindGustDir',),\n",
      "            (  'WindDir9am',),\n",
      "            (  'WindDir3pm',),\n",
      "            ('WindSpeed9am',),\n",
      "            ('WindSpeed3pm',),\n",
      "            ( 'Humidity3pm',),\n",
      "            (   'RainToday',)],\n",
      "           )\n"
     ]
    }
   ],
   "source": [
    "# Choose the top feature for test set\n",
    "# Feature Importance using Filter Method (Chi-Square)\n",
    "from sklearn.feature_selection import SelectKBest, chi2\n",
    "X = X_test\n",
    "y = y_test\n",
    "selector = SelectKBest(chi2, k=8)\n",
    "selector.fit(X, y)\n",
    "X_new = selector.transform(X)\n",
    "print(X.columns[selector.get_support(indices=True)])"
   ]
  },
  {
   "cell_type": "markdown",
   "metadata": {},
   "source": [
    "<h4> 3/ Parameter Tuning"
   ]
  },
  {
   "cell_type": "code",
   "execution_count": 58,
   "metadata": {},
   "outputs": [],
   "source": [
    "params_rf = {'max_depth': 16,\n",
    "             'min_samples_leaf': 1,\n",
    "             'min_samples_split': 2,\n",
    "             'n_estimators': 100,\n",
    "             'random_state': 12345}"
   ]
  },
  {
   "cell_type": "markdown",
   "metadata": {},
   "source": [
    "<h4> 4/ Model Training"
   ]
  },
  {
   "cell_type": "code",
   "execution_count": 59,
   "metadata": {},
   "outputs": [],
   "source": [
    "# train/test split with scikit-learn\n",
    "# train/val split with scikit-learn\n",
    "from sklearn.model_selection import train_test_split\n",
    "\n",
    "X_train, X_test, y_train, y_test = train_test_split(X_train[['Rainfall',\n",
    "                                                            'WindGustDir',\n",
    "                                                            'WindDir9am', \n",
    "                                                            'WindDir3pm',\n",
    "                                                            'WindSpeed9am',\n",
    "                                                            'WindSpeed3pm',                                                          \n",
    "                                                            'Humidity3pm',\n",
    "                                                            'RainToday']], \n",
    "                                                                  y_train, test_size=0.2, random_state=0, shuffle=True)"
   ]
  },
  {
   "cell_type": "code",
   "execution_count": 60,
   "metadata": {},
   "outputs": [],
   "source": [
    "# Normalize Features\n",
    "from sklearn.preprocessing import StandardScaler\n",
    "scaler = StandardScaler()\n",
    "X_train = scaler.fit_transform(X_train)\n",
    "X_test = scaler.transform(X_test)"
   ]
  },
  {
   "cell_type": "code",
   "execution_count": 61,
   "metadata": {},
   "outputs": [],
   "source": [
    "def plot_roc_cur(fper, tper):  \n",
    "    plt.plot(fper, tper, color='orange', label='ROC')\n",
    "    plt.plot([0, 1], [0, 1], color='darkblue', linestyle='--')\n",
    "    plt.xlabel('False Positive Rate')\n",
    "    plt.ylabel('True Positive Rate')\n",
    "    plt.title('Receiver Operating Characteristic (ROC) Curve')\n",
    "    plt.legend()\n",
    "    plt.show()"
   ]
  },
  {
   "cell_type": "code",
   "execution_count": 62,
   "metadata": {},
   "outputs": [],
   "source": [
    "import time\n",
    "from sklearn.metrics import accuracy_score, roc_auc_score, cohen_kappa_score, plot_confusion_matrix, roc_curve, classification_report\n",
    "def run_model(model, X_train, y_train, X_test, y_test, verbose=True):\n",
    "    t0=time.time()\n",
    "    if verbose == False:\n",
    "        model.fit(X_train,y_train, verbose=0)\n",
    "    else:\n",
    "        model.fit(X_train,y_train)\n",
    "    y_pred = model.predict(X_test)\n",
    "    accuracy = accuracy_score(y_test, y_pred)\n",
    "    roc_auc = roc_auc_score(y_test, y_pred) \n",
    "    coh_kap = cohen_kappa_score(y_test, y_pred)\n",
    "    time_taken = time.time()-t0\n",
    "    print(\"Accuracy = {}\".format(accuracy))\n",
    "    print(\"ROC Area under Curve = {}\".format(roc_auc))\n",
    "    print(\"Cohen's Kappa = {}\".format(coh_kap))\n",
    "    print(\"Time taken = {}\".format(time_taken))\n",
    "    print(classification_report(y_test,y_pred,digits=5))\n",
    "    \n",
    "    probs = model.predict_proba(X_test)  \n",
    "    probs = probs[:, 1]  \n",
    "    fper, tper, thresholds = roc_curve(y_test, probs) \n",
    "    plot_roc_cur(fper, tper)\n",
    "    \n",
    "    plot_confusion_matrix(model, X_test, y_test,cmap=plt.cm.Blues, normalize = 'all')\n",
    "    \n",
    "    return model, accuracy, roc_auc, coh_kap, time_taken"
   ]
  },
  {
   "cell_type": "code",
   "execution_count": 63,
   "metadata": {},
   "outputs": [
    {
     "name": "stdout",
     "output_type": "stream",
     "text": [
      "Accuracy = 0.9837587006960556\n",
      "ROC Area under Curve = 0.7228600577827156\n",
      "Cohen's Kappa = 0.5442975894977189\n",
      "Time taken = 7.5267860889434814\n",
      "              precision    recall  f1-score   support\n",
      "\n",
      "           0    0.71472   0.44981   0.55213       518\n",
      "           1    0.98758   0.99591   0.99173     22756\n",
      "\n",
      "    accuracy                        0.98376     23274\n",
      "   macro avg    0.85115   0.72286   0.77193     23274\n",
      "weighted avg    0.98151   0.98376   0.98195     23274\n",
      "\n"
     ]
    },
    {
     "data": {
      "image/png": "[encoded data removed]",
      "text/plain": [
       "<Figure size 432x288 with 1 Axes>"
      ]
     },
     "metadata": {
      "needs_background": "light"
     },
     "output_type": "display_data"
    },
    {
     "data": {
      "image/png": "[encoded data removed]",
      "text/plain": [
       "<Figure size 432x288 with 2 Axes>"
      ]
     },
     "metadata": {
      "needs_background": "light"
     },
     "output_type": "display_data"
    }
   ],
   "source": [
    "from sklearn.ensemble import RandomForestClassifier\n",
    "\n",
    "\n",
    "model_rf = RandomForestClassifier(**params_rf)\n",
    "model_rf, accuracy_rf, roc_auc_rf, coh_kap_rf, tt_rf = run_model(model_rf, X_train, y_train, X_test, y_test)"
   ]
  },
  {
   "cell_type": "markdown",
   "metadata": {},
   "source": [
    "<h3> MODEL 2: LOGISTIC REGRESSION "
   ]
  },
  {
   "cell_type": "markdown",
   "metadata": {},
   "source": [
    "* We will do the same for Task 1 (Train/Val/Test split) and Task 2(Feature Engineering) like in the model 1 (Random Forest Classifier)"
   ]
  },
  {
   "cell_type": "markdown",
   "metadata": {},
   "source": [
    "<h4> 3/ Parameter Tuning"
   ]
  },
  {
   "cell_type": "code",
   "execution_count": 64,
   "metadata": {},
   "outputs": [],
   "source": [
    "params_lr = {'penalty': 'l1', 'solver':'liblinear'}"
   ]
  },
  {
   "cell_type": "markdown",
   "metadata": {},
   "source": [
    "<h4> 4/ Model Training"
   ]
  },
  {
   "cell_type": "code",
   "execution_count": 65,
   "metadata": {},
   "outputs": [
    {
     "name": "stdout",
     "output_type": "stream",
     "text": [
      "Accuracy = 0.9816533470825815\n",
      "ROC Area under Curve = 0.7472519445845163\n",
      "Cohen's Kappa = 0.5398230063908956\n",
      "Time taken = 0.5161669254302979\n",
      "              precision    recall  f1-score   support\n",
      "\n",
      "           0    0.60606   0.50193   0.54910       518\n",
      "           1    0.98871   0.99257   0.99064     22756\n",
      "\n",
      "    accuracy                        0.98165     23274\n",
      "   macro avg    0.79738   0.74725   0.76987     23274\n",
      "weighted avg    0.98019   0.98165   0.98081     23274\n",
      "\n"
     ]
    },
    {
     "data": {
      "image/png": "[encoded data removed]",
      "text/plain": [
       "<Figure size 432x288 with 1 Axes>"
      ]
     },
     "metadata": {
      "needs_background": "light"
     },
     "output_type": "display_data"
    },
    {
     "data": {
      "image/png": "[encoded data removed]",
      "text/plain": [
       "<Figure size 432x288 with 2 Axes>"
      ]
     },
     "metadata": {
      "needs_background": "light"
     },
     "output_type": "display_data"
    }
   ],
   "source": [
    "from sklearn.linear_model import LogisticRegression\n",
    "\n",
    "\n",
    "\n",
    "model_lr = LogisticRegression(**params_lr)\n",
    "model_lr, accuracy_lr, roc_auc_lr, coh_kap_lr, tt_lr = run_model(model_lr, X_train, y_train, X_test, y_test)"
   ]
  },
  {
   "cell_type": "markdown",
   "metadata": {},
   "source": [
    "<h3> MODEL 3: DECISION TREE"
   ]
  },
  {
   "cell_type": "markdown",
   "metadata": {},
   "source": [
    "* We will do the same for Task 1 (Train/Val/Test split) and Task 2(Feature Engineering) like in the model 1 (Random Forest Classifier)"
   ]
  },
  {
   "cell_type": "markdown",
   "metadata": {},
   "source": [
    "<h4> 3/ Parameter Tuning"
   ]
  },
  {
   "cell_type": "code",
   "execution_count": 66,
   "metadata": {},
   "outputs": [],
   "source": [
    "params_dt = {'max_depth': 16,\n",
    "             'max_features': \"sqrt\"}"
   ]
  },
  {
   "cell_type": "markdown",
   "metadata": {},
   "source": [
    "<h4> 4/ Model Training"
   ]
  },
  {
   "cell_type": "code",
   "execution_count": 67,
   "metadata": {},
   "outputs": [
    {
     "name": "stdout",
     "output_type": "stream",
     "text": [
      "Accuracy = 0.9783449342614076\n",
      "ROC Area under Curve = 0.7002827036664268\n",
      "Cohen's Kappa = 0.4460014002400735\n",
      "Time taken = 0.12560200691223145\n",
      "              precision    recall  f1-score   support\n",
      "\n",
      "           0    0.51707   0.40927   0.45690       518\n",
      "           1    0.98662   0.99130   0.98895     22756\n",
      "\n",
      "    accuracy                        0.97834     23274\n",
      "   macro avg    0.75184   0.70028   0.72292     23274\n",
      "weighted avg    0.97617   0.97834   0.97711     23274\n",
      "\n"
     ]
    },
    {
     "data": {
      "image/png": "[encoded data removed]",
      "text/plain": [
       "<Figure size 432x288 with 1 Axes>"
      ]
     },
     "metadata": {
      "needs_background": "light"
     },
     "output_type": "display_data"
    },
    {
     "data": {
      "image/png": "[encoded data removed]",
      "text/plain": [
       "<Figure size 432x288 with 2 Axes>"
      ]
     },
     "metadata": {
      "needs_background": "light"
     },
     "output_type": "display_data"
    }
   ],
   "source": [
    "from sklearn.tree import DecisionTreeClassifier\n",
    "\n",
    "model_dt = DecisionTreeClassifier(**params_dt)\n",
    "model_dt, accuracy_dt, roc_auc_dt, coh_kap_dt, tt_dt = run_model(model_dt, X_train, y_train, X_test, y_test)"
   ]
  },
  {
   "cell_type": "markdown",
   "metadata": {},
   "source": [
    "<h3> MODEL 4: LIGHT GBM"
   ]
  },
  {
   "cell_type": "markdown",
   "metadata": {},
   "source": [
    "* We will do the same for Task 1 (Train/Val/Test split) and Task 2(Feature Engineering) like in the model 1 (Random Forest Classifier)"
   ]
  },
  {
   "cell_type": "markdown",
   "metadata": {},
   "source": [
    "<h4> 3/ Parameter Tuning"
   ]
  },
  {
   "cell_type": "code",
   "execution_count": 68,
   "metadata": {},
   "outputs": [],
   "source": [
    "params_lgb ={'colsample_bytree': 0.95, \n",
    "         'max_depth': 16, \n",
    "         'min_split_gain': 0.1, \n",
    "         'n_estimators': 200, \n",
    "         'num_leaves': 50, \n",
    "         'reg_alpha': 1.2, \n",
    "         'reg_lambda': 1.2, \n",
    "         'subsample': 0.95, \n",
    "         'subsample_freq': 20}"
   ]
  },
  {
   "cell_type": "markdown",
   "metadata": {},
   "source": [
    "<h4> 4/ Model Training"
   ]
  },
  {
   "cell_type": "code",
   "execution_count": 69,
   "metadata": {},
   "outputs": [
    {
     "name": "stdout",
     "output_type": "stream",
     "text": [
      "Accuracy = 0.9835868350949557\n",
      "ROC Area under Curve = 0.7133393814928355\n",
      "Cohen's Kappa = 0.5308283313223969\n",
      "Time taken = 3.255354881286621\n",
      "              precision    recall  f1-score   support\n",
      "\n",
      "           0    0.71935   0.43050   0.53865       518\n",
      "           1    0.98715   0.99618   0.99164     22756\n",
      "\n",
      "    accuracy                        0.98359     23274\n",
      "   macro avg    0.85325   0.71334   0.76515     23274\n",
      "weighted avg    0.98119   0.98359   0.98156     23274\n",
      "\n"
     ]
    },
    {
     "data": {
      "image/png": "[encoded data removed]",
      "text/plain": [
       "<Figure size 432x288 with 1 Axes>"
      ]
     },
     "metadata": {
      "needs_background": "light"
     },
     "output_type": "display_data"
    },
    {
     "data": {
      "image/png": "[encoded data removed]",
      "text/plain": [
       "<Figure size 432x288 with 2 Axes>"
      ]
     },
     "metadata": {
      "needs_background": "light"
     },
     "output_type": "display_data"
    }
   ],
   "source": [
    "import lightgbm as lgb\n",
    "\n",
    "model_lgb = lgb.LGBMClassifier(**params_lgb)\n",
    "model_lgb, accuracy_lgb, roc_auc_lgb, coh_kap_lgb, tt_lgb = run_model(model_lgb, X_train, y_train, X_test, y_test)"
   ]
  },
  {
   "cell_type": "markdown",
   "metadata": {},
   "source": [
    "<h3> Model Evaluation and Selection"
   ]
  },
  {
   "cell_type": "code",
   "execution_count": 70,
   "metadata": {},
   "outputs": [
    {
     "name": "stdout",
     "output_type": "stream",
     "text": [
      "┌───────────────────────────────────┬──────────┐\n",
      "│ Model                             │ Accuracy │\n",
      "├───────────────────────────────────┼──────────┤\n",
      "│ Model 1: RANDOM FOREST CLASSIFIER │  0.98375 │\n",
      "├───────────────────────────────────┼──────────┤\n",
      "│ Model 2: LOGISTIC REGRESSION      │  0.98165 │\n",
      "├───────────────────────────────────┼──────────┤\n",
      "│ Model 3: DECISION TREE            │  0.97598 │\n",
      "├───────────────────────────────────┼──────────┤\n",
      "│ Model 4: LIGHT GBM                │  0.98358 │\n",
      "└───────────────────────────────────┴──────────┘\n"
     ]
    }
   ],
   "source": [
    "import tabletext\n",
    "\n",
    "data = [['Model','Accuracy'],\n",
    "        ['Model 1: RANDOM FOREST CLASSIFIER',0.98375],\n",
    "        ['Model 2: LOGISTIC REGRESSION',0.98165], \n",
    "        ['Model 3: DECISION TREE', 0.97598],\n",
    "        ['Model 4: LIGHT GBM', 0.98358],\n",
    "        ]\n",
    "\n",
    "print(tabletext.to_text(data))"
   ]
  }
 ],
 "metadata": {
  "kernelspec": {
   "display_name": "Python 3",
   "language": "python",
   "name": "python3"
  },
  "language_info": {
   "codemirror_mode": {
    "name": "ipython",
    "version": 3
   },
   "file_extension": ".py",
   "mimetype": "text/x-python",
   "name": "python",
   "nbconvert_exporter": "python",
   "pygments_lexer": "ipython3",
   "version": "3.8.3"
  }
 },
 "nbformat": 4,
 "nbformat_minor": 4
}
